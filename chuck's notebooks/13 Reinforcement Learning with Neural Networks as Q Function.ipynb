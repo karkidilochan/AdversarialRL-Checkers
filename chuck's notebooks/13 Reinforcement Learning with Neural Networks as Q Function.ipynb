{
 "cells": [
  {
   "cell_type": "markdown",
   "metadata": {},
   "source": [
    "$$\\newcommand{\\Rv}{\\mathbf{R}}\n",
    "\\newcommand{\\rv}{\\mathbf{r}}\n",
    "\\newcommand{\\Qv}{\\mathbf{Q}}\n",
    "\\newcommand{\\Qnv}{\\mathbf{Qn}}\n",
    "\\newcommand{\\Ynv}{\\mathbf{Yn}}\n",
    "\\newcommand{\\Av}{\\mathbf{A}}\n",
    "\\newcommand{\\Aiv}{\\mathbf{Ai}}\n",
    "\\newcommand{\\av}{\\mathbf{a}}\n",
    "\\newcommand{\\xv}{\\mathbf{x}}\n",
    "\\newcommand{\\Xv}{\\mathbf{X}}\n",
    "\\newcommand{\\yv}{\\mathbf{y}}\n",
    "\\newcommand{\\Yv}{\\mathbf{Y}}\n",
    "\\newcommand{\\zv}{\\mathbf{z}}\n",
    "\\newcommand{\\av}{\\mathbf{a}}\n",
    "\\newcommand{\\Wv}{\\mathbf{W}}\n",
    "\\newcommand{\\wv}{\\mathbf{w}}\n",
    "\\newcommand{\\betav}{\\mathbf{\\beta}}\n",
    "\\newcommand{\\gv}{\\mathbf{g}}\n",
    "\\newcommand{\\Hv}{\\mathbf{H}}\n",
    "\\newcommand{\\dv}{\\mathbf{d}}\n",
    "\\newcommand{\\Vv}{\\mathbf{V}}\n",
    "\\newcommand{\\vv}{\\mathbf{v}}\n",
    "\\newcommand{\\Uv}{\\mathbf{U}}\n",
    "\\newcommand{\\uv}{\\mathbf{u}}\n",
    "\\newcommand{\\tv}{\\mathbf{t}}\n",
    "\\newcommand{\\Tv}{\\mathbf{T}}\n",
    "\\newcommand{\\TDv}{\\mathbf{TD}}\n",
    "\\newcommand{\\Tiv}{\\mathbf{Ti}}\n",
    "\\newcommand{\\Sv}{\\mathbf{S}}\n",
    "\\newcommand{\\Gv}{\\mathbf{G}}\n",
    "\\newcommand{\\zv}{\\mathbf{z}}\n",
    "\\newcommand{\\Zv}{\\mathbf{Z}}\n",
    "\\newcommand{\\Norm}{\\mathcal{N}}\n",
    "\\newcommand{\\muv}{\\boldsymbol{\\mu}}\n",
    "\\newcommand{\\sigmav}{\\boldsymbol{\\sigma}}\n",
    "\\newcommand{\\phiv}{\\boldsymbol{\\phi}}\n",
    "\\newcommand{\\Phiv}{\\boldsymbol{\\Phi}}\n",
    "\\newcommand{\\Sigmav}{\\boldsymbol{\\Sigma}}\n",
    "\\newcommand{\\Lambdav}{\\boldsymbol{\\Lambda}}\n",
    "\\newcommand{\\half}{\\frac{1}{2}}\n",
    "\\newcommand{\\argmax}[1]{\\underset{#1}{\\operatorname{argmax}}}\n",
    "\\newcommand{\\argmin}[1]{\\underset{#1}{\\operatorname{argmin}}}\n",
    "\\newcommand{\\dimensionbar}[1]{\\underset{#1}{\\operatorname{|}}}\n",
    "\\newcommand{\\grad}{\\mathbf{\\nabla}}\n",
    "\\newcommand{\\ebx}[1]{e^{\\betav_{#1}^T \\xv_n}}\n",
    "\\newcommand{\\eby}[1]{e^{y_{n,#1}}}\n",
    "\\newcommand{\\Tiv}{\\mathbf{Ti}}\n",
    "\\newcommand{\\Fv}{\\mathbf{F}}\n",
    "\\newcommand{\\ones}[1]{\\mathbf{1}_{#1}}\n",
    "$$"
   ]
  },
  {
   "cell_type": "markdown",
   "metadata": {},
   "source": [
    "# Reinforcement Learning with Neural Network as Q Function"
   ]
  },
  {
   "cell_type": "code",
   "execution_count": null,
   "metadata": {
    "ExecuteTime": {
     "end_time": "2023-10-16T17:35:24.195721Z",
     "start_time": "2023-10-16T17:35:23.599675Z"
    }
   },
   "outputs": [],
   "source": [
    "from topic_banner import new_topic\n",
    "new_topic('Reinforcement Learning with Neural Network as Q Function')"
   ]
  },
  {
   "cell_type": "markdown",
   "metadata": {},
   "source": [
    "## Reinforcement Learning Objective"
   ]
  },
  {
   "cell_type": "code",
   "execution_count": null,
   "metadata": {
    "ExecuteTime": {
     "end_time": "2023-10-16T17:35:37.094542Z",
     "start_time": "2023-10-16T17:35:37.047492Z"
    }
   },
   "outputs": [],
   "source": [
    "new_topic('Objective')"
   ]
  },
  {
   "cell_type": "markdown",
   "metadata": {},
   "source": [
    "The objective for any reinforcement learning problem is to\n",
    "find the sequence of actions that maximizes (or minimizes) the sum\n",
    "of reinforcements along the sequence.\n",
    "This is reduced to the objective of acquiring the Q function the\n",
    "predicts the expected sum of future reinforcements, because the\n",
    "correct Q function\n",
    "determines the optimal next action.\n",
    "\n",
    "So, the RL objective is to make this approximation as accurate as possible:\n",
    "\n",
    "$$\n",
    "    \\begin{align*}\n",
    "      Q(s_t,a_t) \\approx \\sum_{k=0}^\\infty r_{t+k+1}\n",
    "    \\end{align*}\n",
    "$$\n",
    "\n",
    "This is usually formulated as the least squares objective\n",
    "\n",
    "$$\n",
    "    \\begin{align*}\n",
    "      \\text{Minimize } \\mathrm{E} \\left ( \\sum_{k=0}^\\infty r_{t+k+1} - Q(s_t,a_t)\\right )^2\n",
    "    \\end{align*}\n",
    "$$\n",
    "\n",
    "What is that expectation taken over?\n",
    "\n",
    "Sources of randomness:\n",
    "\n",
    "   * action selection\n",
    "   * state transitions\n",
    "   * reinforcement received\n",
    "\n",
    "Of course, the key problem is that we don't know $\\sum_{k=0}^\\infty r_{t+k+1}$. What do we do?\n",
    "\n",
    "Approximate it by \n",
    "\n",
    "$$\n",
    "    \\begin{align*}\n",
    "      \\sum_{k=0}^\\infty r_{t+k+1}  = & r_{t+1} + \\sum_{k=1}^\\infty r_{t+k+1}\\\\\n",
    "       = & r_{t+1} + \\sum_{k=0}^\\infty r_{t+1+k+1}\\\\\n",
    "       \\approx & r_{t+1} + Q(s_{t+1},a_{t+1})\n",
    "    \\end{align*}\n",
    "$$"
   ]
  },
  {
   "cell_type": "markdown",
   "metadata": {},
   "source": [
    "## Gradient of Objective"
   ]
  },
  {
   "cell_type": "code",
   "execution_count": null,
   "metadata": {
    "ExecuteTime": {
     "end_time": "2023-10-16T17:35:46.865004Z",
     "start_time": "2023-10-16T17:35:46.810468Z"
    }
   },
   "outputs": [],
   "source": [
    "new_topic('Gradient of Objective')"
   ]
  },
  {
   "cell_type": "markdown",
   "metadata": {},
   "source": [
    "Now our minimization problem is the following.  Let $Q$ be a\n",
    "parameterized function, with parameters $\\wv$.  How do we try to\n",
    "minimize it? \n",
    "\n",
    "$$\n",
    "    \\begin{align*}\n",
    "      \\text{Minimize }  J(\\wv)  &= \\mathrm{E} \\left ( \\sum_{k=0}^\\infty r_{t+k+1} - Q(s_t,a_t;\\wv)\\right )^2\\\\\n",
    "      & = \\mathrm{E} \\Bigl ( r_{t+1} + Q(s_{t+1},a_{t+1};\\wv) - Q(s_t,a_t;\\wv) \\Bigr )^2\n",
    "    \\end{align*}\n",
    "$$\n",
    "\n",
    "\n",
    "Right!  Take the gradient of $J(\\wv)$ with respect to $\\wv$ and do\n",
    "gradient descent.  $Q$ appears twice in this expression.  A very\n",
    "common approach is to only take the gradient with respect to\n",
    "$Q(s_t,a_t;\\wv)$ and treat $Q(s_{t+1},a_{t+1};\\wv)$ as constant. Not\n",
    "correct, but works well and simplifies the resulting algorithm.  Recently a second Q function, referred to as a target Q function, has been used to calculate $Q(s_{t+1}, a_{t+1};\\wv_{\\text{target}})$, with its own parameters $\\wv_{\\text{target}}$.  At certain intervals $\\wv$ is copied to $\\wv_{\\text{target}}$ to update the target Q function."
   ]
  },
  {
   "cell_type": "markdown",
   "metadata": {},
   "source": [
    "Recall that the expectation operator is a sum of possible values,\n",
    "weighted by their probabilities.  If $d$ is the value on the top\n",
    "of a (fair) dice, \n",
    "\n",
    "$$\n",
    "    \\begin{align*}\n",
    "      \\mathrm{E} (d) = \\frac{1}{6} 1 + \\frac{1}{6} 2 + \\frac{1}{6} 3 + \\frac{1}{6} 4 + \\frac{1}{6} 5 + \\frac{1}{6} 6\n",
    "    \\end{align*}\n",
    "$$\n",
    "\n",
    "So the gradient of an expected value is the expected value of the gradients.\n",
    "\n",
    "$$\n",
    "    \\begin{align*}\n",
    "      \\grad_{\\wv}  J(\\wv) = \n",
    "       2 \\mathrm{E} \\Bigl ( r_{t+1} + Q(s_{t+1},a_{t+1};\\wv) - Q(s_t,a_t;\\wv) \\Bigr ) (-1) \\grad_{\\wv} Q(s_t,a_t,;\\wv)\n",
    "    \\end{align*}\n",
    "$$\n",
    "\n",
    "The expectation operator requires knowledge of the probabilities of\n",
    "all of those random effects.  Instead, we will just sample the world.   \n",
    "\n",
    "More probable events will take place more often.  If we just add updates to $\\wv$ for each sample, we effectively have done the expectation."
   ]
  },
  {
   "cell_type": "markdown",
   "metadata": {},
   "source": [
    "## Gradient for Q function as Table"
   ]
  },
  {
   "cell_type": "code",
   "execution_count": null,
   "metadata": {
    "ExecuteTime": {
     "end_time": "2023-10-16T17:35:59.834520Z",
     "start_time": "2023-10-16T17:35:59.770697Z"
    }
   },
   "outputs": [],
   "source": [
    "new_topic('Gradient for Q Function as Table')"
   ]
  },
  {
   "cell_type": "markdown",
   "metadata": {},
   "source": [
    "What is the gradient when $Q$ is a table, like the maze and the tic-tac-toe problem?\n",
    "We must first decide what the $\\wv$ parameters are for a table.\n",
    "\n",
    "They are just the entries in the table.  Can formulate the selection\n",
    "of the correct parameter in the table as a dot product. \n",
    "\n",
    "Let $\\xv_t$ be a column vector of length equal to the number of table\n",
    "cells and with values that are all 0's and a single 1.  The 1\n",
    "designates the cell corresponding to $s_t$ and $a_t$. Then\n",
    "\n",
    "$$\n",
    "    \\begin{align*}\n",
    "      Q(s_t,a_t;\\wv) = \\xv_t^T \\wv\n",
    "    \\end{align*}\n",
    "$$\n",
    "\n",
    "So, \n",
    "\n",
    "$$\n",
    "    \\begin{align*}\n",
    "      \\grad_{\\wv} Q(s_t,a_t;\\wv) &= \\grad_{\\wv} (\\xv_t^T \\wv)\\\\\n",
    "      & = \\xv_t\n",
    "    \\end{align*}\n",
    "$$\n",
    "\n",
    "\n",
    "Let's define the temporal-difference error to be $\\delta_t$\n",
    "\n",
    "$$\n",
    "    \\begin{align*}\n",
    "      \\delta_t &= r_{t+1} + Q(s_{t+1},a_{t+1};\\wv) - Q(s_t,a_t;\\wv)\n",
    "    \\end{align*}\n",
    "$$\n",
    "\n",
    "Now\n",
    "\n",
    "$$\n",
    "    \\begin{align*}\n",
    "      \\grad_{\\wv} J(\\wv) & = 2 \\mathrm{E} \\Bigl ( \\delta_t  (-1) \\grad_{\\wv} Q(s_t,a_t,;\\wv) \\Bigr )\\\\\n",
    "      & = -2 \\mathrm{E} (\\delta_t  \\xv_t)\\\\\n",
    "      & = \\begin{cases}\n",
    "        -2 \\mathrm{E} (\\delta_t) , & \\text{ for cell for } s_t, a_t;\\\\\n",
    "        0, & \\text{ for all other cells}\n",
    "      \\end{cases}\n",
    "    \\end{align*}\n",
    "$$\n",
    "\n",
    "Replacing the expectation with samples, we get the TD update rule for Q tables\n",
    "\n",
    "$$\n",
    "    \\begin{align*}\n",
    "      \\wv &\\leftarrow \\wv - \\grad_{\\wv} J(\\wv)\\\\\n",
    "       &\\leftarrow \\wv + \\rho \\delta_t \\xv_t\n",
    "    \\end{align*}\n",
    "$$\n",
    "\n",
    "which is really the same as what we have seen before,\n",
    "\n",
    "$$\n",
    "    \\begin{align*}\n",
    "      Q(s_t,a_t)  &\\leftarrow Q(s_t,a_t)  + \\rho \\delta_t\n",
    "%%      Q(s_t,a_t)  &\\leftarrow Q(s_t,a_t)  + \\rho \\Bigl (r_{t+1} + Q(s_{t+1},a_{t+1};\\wv) - Q(s_t,a_t;\\wv)\\Bigr )\n",
    "    \\end{align*}\n",
    "$$\n",
    "\n",
    "where the update to just the $s_t,a_t$ cell of Q was implicit."
   ]
  },
  {
   "cell_type": "markdown",
   "metadata": {},
   "source": [
    "## Gradient for Q function as Neural Network"
   ]
  },
  {
   "cell_type": "code",
   "execution_count": null,
   "metadata": {
    "ExecuteTime": {
     "end_time": "2023-10-16T17:36:13.481828Z",
     "start_time": "2023-10-16T17:36:13.414631Z"
    }
   },
   "outputs": [],
   "source": [
    "new_topic('Gradient for Q Function as Neural Network')"
   ]
  },
  {
   "cell_type": "markdown",
   "metadata": {},
   "source": [
    "Using a table for Q has limited use.  \n",
    "\n",
    "   * Size of table might be too large to store in memory.\n",
    "   * Learning could be slow.  Experience in one cell does not transfer to other cells.\n",
    "\n",
    "Let's use a different function approximator.  Uhhh...what shall we use?\n",
    "\n",
    "Brilliant!   A neural network! What has to change in our derivation of the gradient?\n",
    "\n",
    "We want to approximate $Q(s_t,a_t;\\wv)$ with a neural network.  The\n",
    "values of $\\wv$ are the weights in all layers.  If our network has just two layers, the $\\wv$ is composed of hidden layer weights $\\Vv$ and $\\Wv$."
   ]
  },
  {
   "cell_type": "markdown",
   "metadata": {},
   "source": [
    "Looks like the neural network will have a single output value and inputs for $s_t$ and $a_t$.  To find best action, we would input $s_t$ and try all possible actions $a_t$, calculating the\n",
    "output of the network for each.  Then pick the action that produces the best neural network output.\n",
    "\n",
    "Remember the objective function that we wish to minimize,\n",
    "\n",
    "$$\n",
    "    \\begin{align*}\n",
    "      \\text{Minimize }  J(\\wv)  &= \\mathrm{E} \\left ( \\sum_{k=0}^\\infty r_{t+k+1} - Q(s_t,a_t;\\wv)\\right )^2\\\\\n",
    "      & = \\mathrm{E} \\Bigl ( r_{t+1} + Q(s_{t+1},a_{t+1};\\wv) - Q(s_t,a_t;\\wv) \\Bigr )^2,\n",
    "    \\end{align*}\n",
    "$$\n",
    "\n",
    "and its gradient, which is\n",
    "\n",
    "$$\n",
    "    \\begin{align*}\n",
    "      \\grad_{\\wv}  J(\\wv) = \n",
    "       2 \\mathrm{E} \\Bigl ( r_{t+1} + Q(s_{t+1},a_{t+1};\\wv) - Q(s_t,a_t;\\wv) \\Bigr ) (-1) \\grad_{\\wv} Q(s_t,a_t,;\\wv).\n",
    "    \\end{align*}\n",
    "$$\n",
    "\n",
    "We replace the expectation operator with samples, at time $t$.\n",
    "\n",
    "$$\n",
    "    \\begin{align*}\n",
    "      \\grad_{\\wv_t}  J(\\wv_t) = \n",
    "       -2 \\Bigl ( r_{t+1} + Q(s_{t+1},a_{t+1};\\wv_t) - Q(s_t,a_t;\\wv_t) \\Bigr ) \\grad_{\\wv_t} Q(s_t,a_t,;\\wv_t).\n",
    "    \\end{align*}\n",
    "$$\n",
    "\n",
    "\n",
    "What remains is to calculate \n",
    "\n",
    "$$\n",
    "    \\begin{align*}\n",
    "     \\grad_{\\wv_t} Q(s_t,a_t,;\\wv_t).\n",
    "    \\end{align*}\n",
    "$$\n",
    "\n",
    "but we have seen this before, when calculating the gradient of the output of a neural network with respect to its weights, $\\wv = (V,W)$.  So, the only change to our previous algorithm for training a neural network to do nonlinear regression is that we use the temporal-difference error rather than the target-output error.\n",
    "\n",
    "Here are the gradient descent updates we had for nonlinear regression neural networks.\n",
    "\n",
    "$$\n",
    "    \\begin{align*}\n",
    "      \\Zv &= h(\\tilde{\\Xv} \\Vv)\\\\\n",
    "      \\Yv &= \\tilde{\\Zv} \\Wv\\\\\n",
    "       \\Vv & \\leftarrow \\Vv + \\rho_h \\frac{1}{N} \\frac{1}{K} \\tilde{\\Xv}^T \\left ( (\\Tv - \\Yv) \\hat{\\Wv}^T \\cdot  (1-\\Zv^2) \\right )\\\\\n",
    "      \\Wv & \\leftarrow \\Wv + \\rho_o \\frac{1}{N}\\frac{1}{K} \\tilde{\\Zv}^T (\\Tv - \\Yv)\n",
    "      \\end{align*}\n",
    "$$\n",
    "\n",
    "The key change we need to make is in the error.  Our targets are now given by a reinforcement plus the next step predicted Q values.  Must assemble a bunch of samples into matrices.  \n",
    "\n",
    "Multiple $s_t, a_t$ tuples will be collected as rows in $\\Xv$, which, when passed through the neural network, produce $\\Zv$ and $\\Yv$. $\\Yv = \\Qv$, because the output $\\Yv$ of the network we are taking as our $Q$ value, the estimate of the expected return.  \n",
    "\n",
    "Reinforcements received, $r_{t+1}$'s, will be collected as rows of $\\Rv$. \n",
    "\n",
    "Now just need $Q(s_{t+1},a_{t+1})$'s.  These are really like rows of $\\Yv$ shifted up by one row, which we will call $\\Qnv$, for $Q_{\\mbox{next}}$.\n",
    "\n",
    "Now we can rewrite the gradient descent updates.  Assume\n",
    "we have $\\Xv$, $\\Rv$, $\\Qnv$, $\\Qv$, all but $\\Xv$\n",
    "having one column.\n",
    "\n",
    "$$\n",
    "    \\begin{align*}\n",
    "        \\Tv &= \\Rv + \\Qnv\\\\\n",
    "      \\Zv &= \\tanh(\\tilde{\\Xv} \\Vv)\\\\\n",
    "      \\Vv & \\leftarrow \\Vv + \\rho_h \\frac{1}{N} \\tilde{\\Xv}^T \\left ( (\\Tv - \\Qv) \\hat{\\Wv}^T \\cdot  (1-\\Zv^2) \\right )\\\\\n",
    "      \\Wv & \\leftarrow \\Wv + \\rho_o \\frac{1}{N} \\tilde{\\Zv}^T \\;(\\Tv - \\Qv)\n",
    "      \\end{align*}\n",
    "$$\n",
    "\n",
    "To make the relationship to our nonlinear regression expressions even more obvious, let's replace $\\Qv$ with $\\Yv$ and $\\Qnv$ with $\\Ynv$.\n",
    "$$\n",
    "    \\begin{align*}\n",
    "        \\Tv &= \\Rv + \\Ynv\\\\\n",
    "      \\Zv &= \\tanh(\\tilde{\\Xv} \\Vv)\\\\\n",
    "      \\Vv & \\leftarrow \\Vv + \\rho_h \\frac{1}{N} \\tilde{\\Xv}^T \\left ( (\\Tv - \\Yv) \\hat{\\Wv}^T \\cdot  (1-\\Zv^2) \\right )\\\\\n",
    "      \\Wv & \\leftarrow \\Wv + \\rho_o \\frac{1}{N} \\tilde{\\Zv}^T \\;(\\Tv - \\Yv)\n",
    "      \\end{align*}\n",
    "$$"
   ]
  },
  {
   "cell_type": "markdown",
   "metadata": {},
   "source": [
    "## Dealing with Infinite Sums"
   ]
  },
  {
   "cell_type": "code",
   "execution_count": null,
   "metadata": {
    "ExecuteTime": {
     "end_time": "2023-10-16T17:36:24.706475Z",
     "start_time": "2023-10-16T17:36:24.650251Z"
    }
   },
   "outputs": [],
   "source": [
    "new_topic('Dealing with Infinite Sums')"
   ]
  },
  {
   "cell_type": "markdown",
   "metadata": {},
   "source": [
    "For non-episodic tasks (no final state), the desired sum of\n",
    "reinforcements is over an infinite future.\n",
    "\n",
    "This will grow to infinity unless forced to be a finite\n",
    "value. Will use common approach of **discounting** reinforcements,\n",
    "discounting ones more \n",
    "that occur further into the future.\n",
    "\n",
    "$$\n",
    "    \\begin{align*}\n",
    "      Q(s_t,a_t) &= \\sum_{k=0}^{\\infty} \\gamma^k r_{t+k+1}, \\text{ for\n",
    "      } 0 < \\gamma  < 1.\n",
    "    \\end{align*}\n",
    "$$\n",
    "\n",
    "We must introduce this discounting into the objective function\n",
    "\n",
    "$$\n",
    "    \\begin{align*}\n",
    "      \\text{Minimize }  J(\\wv)  &= \\mathrm{E} \\left (\n",
    "      \\sum_{k=0}^\\infty \\gamma^k r_{t+k+1} - Q(s_t,a_t;\\wv)\\right )^2\\\\\n",
    "      & = \\mathrm{E} \\Bigl ( \\gamma^0 r_{t+1} + \\sum_{k=1}^\\infty \\gamma^k r_{t+k+1} - Q(s_t,a_t;\\wv) \\Bigr )^2\\\\\n",
    "      & = \\mathrm{E} \\Bigl ( \\gamma^0 r_{t+1} + \\sum_{k=0}^\\infty \\gamma^{k+1} r_{t+k+1+1} - Q(s_t,a_t;\\wv) \\Bigr )^2\\\\\n",
    "      & = \\mathrm{E} \\Bigl ( \\gamma^0 r_{t+1} + \\gamma \\sum_{k=0}^\\infty \\gamma^k r_{t+k+1+1} - Q(s_t,a_t;\\wv) \\Bigr )^2\\\\\n",
    "      & = \\mathrm{E} \\Bigl ( r_{t+1} + \\gamma Q(s_{t+1},a_{t+1};\\wv) - Q(s_t,a_t;\\wv) \\Bigr )^2\n",
    "    \\end{align*}\n",
    "$$\n",
    "\n",
    "So, we simply add the multiplication by $\\gamma$ to the next\n",
    "state-action Q value in the temporal-difference error."
   ]
  },
  {
   "cell_type": "markdown",
   "metadata": {},
   "source": [
    "## Using Batch-Oriented Algorithm for Non-Stationary Learning Task"
   ]
  },
  {
   "cell_type": "code",
   "execution_count": null,
   "metadata": {
    "ExecuteTime": {
     "end_time": "2023-10-16T17:36:45.595106Z",
     "start_time": "2023-10-16T17:36:45.522596Z"
    }
   },
   "outputs": [],
   "source": [
    "new_topic('Using Batch-Oriented Algorithm for Non-Stationary Learning Task')"
   ]
  },
  {
   "cell_type": "markdown",
   "metadata": {},
   "source": [
    "These are batch updates, remember?  Before, when doing nonlinear regression we had all input and\n",
    "target samples in $\\Xv$ and $\\Tv$.   Now one set of samples are collected for one set of weight values, meaning for one Q function.\n",
    "\n",
    "After updates, we have a new Q function, which will produce different\n",
    "actions.  So what?  \n",
    "\n",
    "We must repeat the steps:\n",
    "\n",
    "   * Generate $N$ samples.\n",
    "   * Update $\\Vv$ and $\\Wv$.\n",
    "\n",
    "in small-ish batches.  Also, must not train for too many iterations each time.  If we do train to convergence each time, the neural network can forget everything it learned from previous samples."
   ]
  },
  {
   "cell_type": "markdown",
   "metadata": {},
   "source": [
    "## 1-D Maze Example"
   ]
  },
  {
   "cell_type": "code",
   "execution_count": null,
   "metadata": {
    "ExecuteTime": {
     "end_time": "2023-10-16T17:36:56.614733Z",
     "start_time": "2023-10-16T17:36:56.562634Z"
    }
   },
   "outputs": [],
   "source": [
    "new_topic('1-D Maze Example')"
   ]
  },
  {
   "cell_type": "markdown",
   "metadata": {},
   "source": [
    "\n",
    "Imagine a chain of states, numbered 1 through 10.  From any state you\n",
    "can move left by one state, stay put, or move right.  Moves off the\n",
    "ends are not permitted.  The goal is to be in state 5.  Let's assign\n",
    "reinforcements of -1 for every move except ones that result in being\n",
    "in state 5, for which you get reinforcement of 0.  This will drive\n",
    "the agent to get to state 5 as quickly as possible.\n",
    "\n",
    "<img src=\"https://www.cs.colostate.edu/~anderson/cs545/notebooks/figures/rlstatechain.png\">\n",
    "\n",
    "\n",
    "So, the state is an integer from 1 through 10. Let's approximate the Q function by  a  neural network\n",
    "with 2 inputs for the integer state and the integer action, 6 hidden units, and 1 output.\n",
    "\n",
    "\n",
    "$$\n",
    "    \\begin{align*}\n",
    "    s_t &\\in \\{1,2,3,4,5,6,7,8,9,10\\}\\\\[3mm]\n",
    "    a_t &= \\begin{cases}\n",
    "           -1; \\text{ for action left},\\\\\n",
    "           0; \\text{ for action stay},\\\\\n",
    "           1; \\text{ for action right}\n",
    "           \\end{cases}\\\\[3mm]\n",
    "    s_{t+1} &= s_t + a_t\\;\\;\\; \\text{bounded to be between 1 and 10}\n",
    "    \\end{align*}\n",
    "$$\n",
    "\n",
    "\n",
    "\n",
    "<img src=\"https://www.cs.colostate.edu/~anderson/cs545/notebooks/figures/nntwolayerq.png\">\n",
    "\n"
   ]
  },
  {
   "cell_type": "code",
   "execution_count": 1,
   "metadata": {
    "ExecuteTime": {
     "end_time": "2022-10-25T15:36:15.916725Z",
     "start_time": "2022-10-25T15:36:14.576832Z"
    }
   },
   "outputs": [],
   "source": [
    "import numpy as np\n",
    "import matplotlib.pyplot as plt\n",
    "\n",
    "import random\n",
    "import neuralnetworksA4 as nn"
   ]
  },
  {
   "cell_type": "markdown",
   "metadata": {},
   "source": [
    "Available actions step left, stay put, and step right.  Represented as change in position, they are"
   ]
  },
  {
   "cell_type": "code",
   "execution_count": 2,
   "metadata": {
    "ExecuteTime": {
     "end_time": "2022-10-25T15:36:16.946438Z",
     "start_time": "2022-10-25T15:36:16.943529Z"
    }
   },
   "outputs": [],
   "source": [
    "valid_actions = [-1, 0, 1]"
   ]
  },
  {
   "cell_type": "markdown",
   "metadata": {},
   "source": [
    "As mentioned in the previous lecture, we need to force exploration by taking random actions.  But, as our Q network learns, we want to decrease the amount of exploration.  \n",
    "\n",
    "Remember that we used $\\epsilon$ to indicate the probability of taking a random action.  Its value is from 0 to 1.  Given a Q net, called `Qnet`, the current `state`, the set of `valid_actions` and `epsilon`, we can define a function that either returns a random choice from `valid_actions` or the best action determined by the values of Q produced by `Qnet` for the current `state` and all `valid_actions`.  This is referred to as an $\\epsilon$-greedy policy."
   ]
  },
  {
   "cell_type": "code",
   "execution_count": 3,
   "metadata": {
    "ExecuteTime": {
     "end_time": "2022-10-25T15:36:18.708049Z",
     "start_time": "2022-10-25T15:36:18.703975Z"
    }
   },
   "outputs": [],
   "source": [
    "def epsilon_greedy(Qnet, state, valid_actions, epsilon):\n",
    "    '''epsilon is between 0 and 1 and is the probability of returning a random action'''\n",
    "    \n",
    "    if np.random.uniform() < epsilon:\n",
    "        # Random Move\n",
    "        action = np.random.choice(valid_actions)\n",
    "        \n",
    "    else:\n",
    "        # Greedy Move\n",
    "        actions_randomly_ordered = random.sample(valid_actions, len(valid_actions))\n",
    "        Qs = [Qnet.use(np.array([[state, a]])) for a in actions_randomly_ordered]\n",
    "        ai = np.argmax(Qs)\n",
    "        action = actions_randomly_ordered[ai]\n",
    "        \n",
    "    Q = Qnet.use(np.array([[state, action]]))\n",
    "    \n",
    "    return action, Q   # return the chosen action and Q(state, action)"
   ]
  },
  {
   "cell_type": "markdown",
   "metadata": {},
   "source": [
    "Now we need a function, `make_samples`, for collecting a bunch of samples of state, action, reinforcement, next state, next actions.  We can make this function generic by passing in functions to create the initial state, the next state, and the reinforcement value."
   ]
  },
  {
   "cell_type": "code",
   "execution_count": 4,
   "metadata": {
    "ExecuteTime": {
     "end_time": "2022-10-25T15:36:20.019561Z",
     "start_time": "2022-10-25T15:36:20.015739Z"
    }
   },
   "outputs": [],
   "source": [
    "valid_actions = [-1, 0, 1]\n",
    "\n",
    "def initial_state():\n",
    "    return np.random.randint(1, 11)\n",
    "\n",
    "def next_state(s, a):\n",
    "    newstate = min(max(1, s + a), 10)\n",
    "    return newstate\n",
    "\n",
    "def reinf(s, sn):  # sn is next state\n",
    "    return 0 if sn == 5 else -1  # if we have arrived in state 5, we have reached the goal, so r is 0."
   ]
  },
  {
   "cell_type": "code",
   "execution_count": 5,
   "metadata": {
    "ExecuteTime": {
     "end_time": "2022-10-25T15:36:20.800890Z",
     "start_time": "2022-10-25T15:36:20.796364Z"
    }
   },
   "outputs": [],
   "source": [
    "def make_samples(Qnet, initial_state_f, next_state_f, reinforcement_f,\n",
    "                 valid_actions, n_samples, epsilon):\n",
    "\n",
    "    X = np.zeros((n_samples, Qnet.n_inputs))\n",
    "    R = np.zeros((n_samples, 1))\n",
    "    Qn = np.zeros((n_samples, 1))\n",
    "\n",
    "    s = initial_state_f()\n",
    "    a, _ = epsilon_greedy(Qnet, s, valid_actions, epsilon)\n",
    "\n",
    "    # Collect data from n_samples steps\n",
    "    for step in range(n_samples):\n",
    "        \n",
    "        sn = next_state_f(s, a)        # Update state, sn, from s and a\n",
    "        rn = reinforcement_f(s, sn)    # Calculate resulting reinforcement\n",
    "        an, qn = epsilon_greedy(Qnet, sn, valid_actions, epsilon)  # choose next action\n",
    "        X[step, :] = (s, a)\n",
    "        R[step, 0] = rn\n",
    "        Qn[step, 0] = qn\n",
    "        s, a = sn, an  # Advance one time step\n",
    "\n",
    "\n",
    "    return (X, R, Qn)"
   ]
  },
  {
   "cell_type": "code",
   "execution_count": 6,
   "metadata": {
    "ExecuteTime": {
     "end_time": "2022-10-25T15:48:21.288037Z",
     "start_time": "2022-10-25T15:48:21.277839Z"
    }
   },
   "outputs": [],
   "source": [
    "def plot_status():\n",
    "    n = 100\n",
    "    xs = np.linspace(1, 10, n).reshape(-1, 1)\n",
    "    xsas = np.vstack((xs, xs, xs))\n",
    "    ones = np.ones((n, 1))\n",
    "    xsas = np.hstack((xsas, np.vstack((ones * -1, ones * 0, ones * 1))))\n",
    "    ys = Qnet.use(xsas)\n",
    "    ys = ys.reshape((n, 3), order='F')\n",
    "    plt.subplot(3, 3, 1)\n",
    "    plt.plot(np.tile(xs, (1, 3)), ys)\n",
    "    plt.ylabel('Q for each action')\n",
    "    plt.xlabel('State')\n",
    "    plt.legend(('Left','Stay','Right'))\n",
    "\n",
    "    plt.subplot(3, 3, 4)\n",
    "    plt.plot(xs, -1 + np.argmax(ys, axis=1))\n",
    "    plt.ylabel('Action')\n",
    "    plt.xlabel('State')\n",
    "    plt.ylim(-1.1, 1.1)\n",
    "\n",
    "    plt.subplot(3, 3, 7)\n",
    "    Qnet.use(np.hstack((xs, ones * -1)))\n",
    "    plt.gca().set_prop_cycle(None)\n",
    "    plt.plot(xs, Qnet.Zs[1], '--')\n",
    "    Qnet.use(np.hstack((xs, ones * 0)))\n",
    "    plt.gca().set_prop_cycle(None)\n",
    "    plt.plot(xs, Qnet.Zs[1])  # Zs[0] is inputs, Zs[1] is hidden layer, Zs[2] is output layer\n",
    "    Qnet.use(np.hstack((xs, ones * 1)))\n",
    "    plt.plot(xs, Qnet.Zs[1], linewidth=2)                   \n",
    "    plt.ylabel('Hidden Units for Actions -1 (dotted) 0 (solid) 1 (thick)')\n",
    "    plt.xlabel('State')\n",
    "\n",
    "    plt.subplot(3, 3, 2)\n",
    "    x = x_trace[j - 100:j, 0]\n",
    "    plt.plot(x, range(100), '.-')\n",
    "    plt.xlabel('x (last 100)')\n",
    "    plt.ylabel('Steps')\n",
    "    y = x.copy()\n",
    "    y[y != 5] = np.nan\n",
    "    plt.plot(y, range(100), 'ro')\n",
    "    plt.xlim(0, 10)\n",
    "\n",
    "    plt.subplot(3, 3, 5)\n",
    "    plt.plot(epsilon_trace[:trial])\n",
    "    plt.ylabel('$\\epsilon$')\n",
    "    plt.xlabel('Trials')\n",
    "    plt.ylim(0, 1)\n",
    "\n",
    "    plt.subplot(3, 3 ,8)\n",
    "    plt.plot(error_trace)\n",
    "    plt.ylabel('TD Error')\n",
    "    plt.xlabel('Epochs')\n",
    "                    \n",
    "    plt.subplot(3, 3, 3)\n",
    "    plt.plot(r_trace[:j, 0])\n",
    "    plt.ylim(-1.1, 0.1)\n",
    "    plt.ylabel('R')\n",
    "    plt.xlabel('Steps')\n",
    "                    \n",
    "    plt.subplot(3, 3, 6)\n",
    "    plt.plot(np.convolve(r_trace[:j, 0], np.array([0.01] * 100), mode='valid'))\n",
    "    plt.ylabel('R smoothed')\n",
    "    plt.ylim(-1.1, 0)\n",
    "    plt.xlabel('Steps')\n",
    "\n",
    "    # plt.subplot(3, 3, 9)\n",
    "    # Qnet.draw(('x', 'a'), ('Q'))\n",
    "    \n",
    "    plt.tight_layout()"
   ]
  },
  {
   "cell_type": "markdown",
   "metadata": {},
   "source": [
    "Now for the main loop.  Let's collect 20 interactions (steps) for each trial and update our Qnet at the end of each trial.  And let's run for a total of 500 trials.  When updating our nnet Q function, let's let scg run for only 10 epochs."
   ]
  },
  {
   "cell_type": "code",
   "execution_count": 7,
   "metadata": {
    "ExecuteTime": {
     "end_time": "2022-10-25T15:48:22.064780Z",
     "start_time": "2022-10-25T15:48:22.060814Z"
    }
   },
   "outputs": [
    {
     "name": "stdout",
     "output_type": "stream",
     "text": [
      "epsilonDecay is 0.9862794856312105\n"
     ]
    }
   ],
   "source": [
    "n_trials = 500\n",
    "n_steps_per_trial = 20\n",
    "n_epochs = 10\n",
    "learning_rate = 0.1\n",
    "\n",
    "n_hidden = [10]\n",
    "gamma = 0.5\n",
    "final_epsilon = 0.001  # value of epsilon at end of simulation. Decay rate is calculated\n",
    "\n",
    "epsilon_decay =  np.exp(np.log(final_epsilon) / n_trials) # to produce this final value\n",
    "print('epsilonDecay is', epsilon_decay)"
   ]
  },
  {
   "cell_type": "code",
   "execution_count": 8,
   "metadata": {
    "ExecuteTime": {
     "end_time": "2022-10-25T15:50:12.704677Z",
     "start_time": "2022-10-25T15:48:22.390463Z"
    }
   },
   "outputs": [
    {
     "data": {
      "image/png": "[encoded data removed]",
      "text/plain": [
       "<Figure size 720x720 with 8 Axes>"
      ]
     },
     "metadata": {
      "needs_background": "light"
     },
     "output_type": "display_data"
    }
   ],
   "source": [
    "from IPython.display import display, clear_output\n",
    "\n",
    "epsilon = 1.0\n",
    "\n",
    "Qnet = nn.NeuralNetwork(2, n_hidden, 1)\n",
    "\n",
    "# We need to set standardization parameters now so Qnet can be called to get first set of samples,\n",
    "# before it has been trained the first time.\n",
    "\n",
    "def setup_standardization(Qnet, Xmeans, Xstds, Tmeans, Tstds):\n",
    "    Qnet.X_means = np.array(Xmeans)\n",
    "    Qnet.X_stds = np.array(Xstds)\n",
    "    Qnet.T_means = np.array(Tmeans)\n",
    "    Qnet.T_stds = np.array(Tstds)\n",
    "\n",
    "# Inputs are position (1 to 10) and action (-1, 0, or 1)\n",
    "setup_standardization(Qnet, [5, 0], [2.5, 0.5], [0], [1])\n",
    "\n",
    "fig = plt.figure(figsize=(10, 10))\n",
    "\n",
    "x_trace = np.zeros((n_trials * n_steps_per_trial, 2))\n",
    "r_trace = np.zeros((n_trials * n_steps_per_trial, 1))\n",
    "error_trace = []\n",
    "epsilon_trace = np.zeros((n_trials, 1))\n",
    "\n",
    "for trial in range(n_trials):\n",
    "    \n",
    "    X, R, Qn = make_samples(Qnet, initial_state, next_state, reinf, valid_actions, n_steps_per_trial, epsilon)\n",
    " \n",
    "    T = R + gamma * Qn\n",
    "    Qnet.train(X, T, X, T, n_epochs, method='scg', learning_rate=learning_rate, verbose=False)\n",
    "    \n",
    "    epsilon_trace[trial] = epsilon\n",
    "    i = trial * n_steps_per_trial\n",
    "    j = i + n_steps_per_trial\n",
    "    x_trace[i:j, :] = X\n",
    "    r_trace[i:j, :] = R\n",
    "    error_trace += np.array(Qnet.get_performance_trace())[:, 0].tolist()  # only training error\n",
    "    \n",
    "    epsilon *= epsilon_decay\n",
    "\n",
    "    # Rest of this loop is for plots.\n",
    "    if True and (trial + 1) % round(n_trials / 20) == 0:\n",
    "        \n",
    "        fig.clf()\n",
    "        plot_status()\n",
    "        clear_output(wait=True)\n",
    "        display(fig)\n",
    "    \n",
    "clear_output(wait=True)"
   ]
  },
  {
   "cell_type": "code",
   "execution_count": 9,
   "metadata": {
    "ExecuteTime": {
     "end_time": "2022-10-25T15:50:28.027691Z",
     "start_time": "2022-10-25T15:50:28.022651Z"
    }
   },
   "outputs": [],
   "source": [
    "def run(n_trials, n_steps_per_trial, n_epochs, learning_rate, n_hidden, gamma, final_epsilon):\n",
    "    epsilon = 1\n",
    "    epsilon_decay =  np.exp(np.log(final_epsilon)/n_trials) # to produce this final value\n",
    "\n",
    "    Qnet = nn.NeuralNetwork(2, n_hidden, 1)\n",
    "    setup_standardization(Qnet, [5, 0], [2.5, 0.5], [0], [1])\n",
    "\n",
    "    r_sum = 0\n",
    "    r_last_2_trials = 0\n",
    "    for trial in range(n_trials):\n",
    "        X, R, Qn = make_samples(Qnet, initial_state, next_state, reinf, \n",
    "                                valid_actions, n_steps_per_trial, epsilon)\n",
    "        r_sum += np.sum(R)\n",
    "        if trial > n_trials - 3:\n",
    "            r_last_2_trials += np.sum(R)\n",
    "        epsilon *= epsilon_decay\n",
    "        Qnet.train(X, R + gamma * Qn, n_epochs, method='scg',\n",
    "                   learning_rate=learning_rate, verbose=False)\n",
    "        \n",
    "    return r_sum / (n_trials * n_steps_per_trial), r_last_2_trials / (2 * n_steps_per_trial)"
   ]
  },
  {
   "cell_type": "code",
   "execution_count": 10,
   "metadata": {
    "ExecuteTime": {
     "end_time": "2022-10-25T15:57:22.901511Z",
     "start_time": "2022-10-25T15:51:03.890143Z"
    }
   },
   "outputs": [
    {
     "name": "stdout",
     "output_type": "stream",
     "text": [
      "nT is 10\n"
     ]
    },
    {
     "ename": "TypeError",
     "evalue": "train() missing 2 required positional arguments: 'Tvalidate' and 'n_epochs'",
     "output_type": "error",
     "traceback": [
      "\u001b[1;31m---------------------------------------------------------------------------\u001b[0m",
      "\u001b[1;31mTypeError\u001b[0m                                 Traceback (most recent call last)",
      "\u001b[1;32m<ipython-input-10-54baf055d9c4>\u001b[0m in \u001b[0;36m<module>\u001b[1;34m\u001b[0m\n\u001b[0;32m     11\u001b[0m                         \u001b[1;32mfor\u001b[0m \u001b[0mfep\u001b[0m \u001b[1;32min\u001b[0m \u001b[1;33m(\u001b[0m\u001b[1;36m0.01\u001b[0m\u001b[1;33m,\u001b[0m\u001b[1;33m)\u001b[0m\u001b[1;33m:\u001b[0m  \u001b[1;31m# final epsilon\u001b[0m\u001b[1;33m\u001b[0m\u001b[1;33m\u001b[0m\u001b[0m\n\u001b[0;32m     12\u001b[0m \u001b[1;33m\u001b[0m\u001b[0m\n\u001b[1;32m---> 13\u001b[1;33m                             \u001b[0mr\u001b[0m\u001b[1;33m,\u001b[0m \u001b[0mr_last_2\u001b[0m \u001b[1;33m=\u001b[0m \u001b[0mrun\u001b[0m\u001b[1;33m(\u001b[0m\u001b[0mnT\u001b[0m\u001b[1;33m,\u001b[0m \u001b[0mnS\u001b[0m\u001b[1;33m,\u001b[0m \u001b[0mnE\u001b[0m\u001b[1;33m,\u001b[0m \u001b[0mlr\u001b[0m\u001b[1;33m,\u001b[0m \u001b[0mnH\u001b[0m\u001b[1;33m,\u001b[0m \u001b[0mg\u001b[0m\u001b[1;33m,\u001b[0m \u001b[0mfep\u001b[0m\u001b[1;33m)\u001b[0m\u001b[1;33m\u001b[0m\u001b[1;33m\u001b[0m\u001b[0m\n\u001b[0m\u001b[0;32m     14\u001b[0m                             \u001b[0mresult\u001b[0m\u001b[1;33m.\u001b[0m\u001b[0mappend\u001b[0m\u001b[1;33m(\u001b[0m\u001b[1;33m[\u001b[0m\u001b[0mnT\u001b[0m\u001b[1;33m,\u001b[0m \u001b[0mnS\u001b[0m\u001b[1;33m,\u001b[0m \u001b[0mnE\u001b[0m\u001b[1;33m,\u001b[0m \u001b[0mnH\u001b[0m\u001b[1;33m,\u001b[0m \u001b[0mg\u001b[0m\u001b[1;33m,\u001b[0m \u001b[0mlr\u001b[0m\u001b[1;33m,\u001b[0m \u001b[0mfep\u001b[0m\u001b[1;33m,\u001b[0m \u001b[0mr\u001b[0m\u001b[1;33m,\u001b[0m \u001b[0mr_last_2\u001b[0m\u001b[1;33m]\u001b[0m\u001b[1;33m)\u001b[0m\u001b[1;33m\u001b[0m\u001b[1;33m\u001b[0m\u001b[0m\n\u001b[0;32m     15\u001b[0m                             \u001b[1;31m# print(result[-1])\u001b[0m\u001b[1;33m\u001b[0m\u001b[1;33m\u001b[0m\u001b[1;33m\u001b[0m\u001b[0m\n",
      "\u001b[1;32m<ipython-input-9-59945fe68b80>\u001b[0m in \u001b[0;36mrun\u001b[1;34m(n_trials, n_steps_per_trial, n_epochs, learning_rate, n_hidden, gamma, final_epsilon)\u001b[0m\n\u001b[0;32m     15\u001b[0m             \u001b[0mr_last_2_trials\u001b[0m \u001b[1;33m+=\u001b[0m \u001b[0mnp\u001b[0m\u001b[1;33m.\u001b[0m\u001b[0msum\u001b[0m\u001b[1;33m(\u001b[0m\u001b[0mR\u001b[0m\u001b[1;33m)\u001b[0m\u001b[1;33m\u001b[0m\u001b[1;33m\u001b[0m\u001b[0m\n\u001b[0;32m     16\u001b[0m         \u001b[0mepsilon\u001b[0m \u001b[1;33m*=\u001b[0m \u001b[0mepsilon_decay\u001b[0m\u001b[1;33m\u001b[0m\u001b[1;33m\u001b[0m\u001b[0m\n\u001b[1;32m---> 17\u001b[1;33m         Qnet.train(X, R + gamma * Qn, n_epochs, method='scg',\n\u001b[0m\u001b[0;32m     18\u001b[0m                    learning_rate=learning_rate, verbose=False)\n\u001b[0;32m     19\u001b[0m \u001b[1;33m\u001b[0m\u001b[0m\n",
      "\u001b[1;31mTypeError\u001b[0m: train() missing 2 required positional arguments: 'Tvalidate' and 'n_epochs'"
     ]
    }
   ],
   "source": [
    "import time\n",
    "start = time.time()\n",
    "result = []\n",
    "for nT in (10, 50, 100):  # number of trials\n",
    "    print('nT is', nT)\n",
    "    for nS in (10, 20, 50, 100):  # number of steps per trial\n",
    "        for nE in (5, 10, 50, 100):  # number of epochs\n",
    "            for nH in [[2], [5], [10], [10, 10]]:  # hidden layer structure\n",
    "                for g in (0.5, 0.9):  # gamma\n",
    "                    for lr in [0]:  # (0.01, 0.1):  # learning rate\n",
    "                        for fep in (0.01,):  # final epsilon\n",
    "                            \n",
    "                            r, r_last_2 = run(nT, nS, nE, lr, nH, g, fep)\n",
    "                            result.append([nT, nS, nE, nH, g, lr, fep, r, r_last_2])\n",
    "                            # print(result[-1])\n",
    "                            \n",
    "print(f'Took {(time.time() - start)/60:.1f} minutes.')"
   ]
  },
  {
   "cell_type": "code",
   "execution_count": null,
   "metadata": {
    "ExecuteTime": {
     "end_time": "2022-10-25T15:57:32.745384Z",
     "start_time": "2022-10-25T15:57:32.711119Z"
    }
   },
   "outputs": [],
   "source": [
    "import pandas\n",
    "result = pandas.DataFrame(result, columns=('Trials', 'StepsPerTrial', 'Epochs',\n",
    "                                           'Hiddens', 'gamma', 'lr', 'fep', 'R', 'R Last 2'))\n",
    "result.sort_values(by='R Last 2', ascending=False)"
   ]
  },
  {
   "cell_type": "code",
   "execution_count": null,
   "metadata": {},
   "outputs": [],
   "source": []
  }
 ],
 "metadata": {
  "kernelspec": {
   "display_name": "Python 3",
   "language": "python",
   "name": "python3"
  },
  "language_info": {
   "codemirror_mode": {
    "name": "ipython",
    "version": 3
   },
   "file_extension": ".py",
   "mimetype": "text/x-python",
   "name": "python",
   "nbconvert_exporter": "python",
   "pygments_lexer": "ipython3",
   "version": "3.8.3"
  },
  "toc": {
   "base_numbering": 1,
   "nav_menu": {},
   "number_sections": true,
   "sideBar": true,
   "skip_h1_title": false,
   "title_cell": "Table of Contents",
   "title_sidebar": "Contents",
   "toc_cell": false,
   "toc_position": {},
   "toc_section_display": true,
   "toc_window_display": false
  }
 },
 "nbformat": 4,
 "nbformat_minor": 4
}
