{
 "cells": [
  {
   "cell_type": "markdown",
   "id": "aedf141e",
   "metadata": {},
   "source": [
    "# JAX: A High-Performance Python Library"
   ]
  },
  {
   "cell_type": "markdown",
   "id": "6cfbaf9a",
   "metadata": {},
   "source": [
    "Jax is a python library developed and used by Google Research that can run numpy-like code fast using its compiler and can run on a GPU with very few changes to your code.  It also can automatically compute the gradient of functions.\n",
    "\n",
    "This article on the [JAX Ecosystem](https://moocaholic.medium.com/jax-a13e83f49897) by Grigory Sapunov is a nice overview of jax and what it is being used for.\n",
    "\n",
    "The [JAX reference documentation](https://jax.readthedocs.io/en/latest/index.html) will be useful, too."
   ]
  },
  {
   "cell_type": "markdown",
   "id": "f795d1a7",
   "metadata": {},
   "source": [
    "## Installing"
   ]
  },
  {
   "cell_type": "markdown",
   "id": "e56a27a9",
   "metadata": {},
   "source": [
    "Commands I used to install jax in my anaconda distribution are the following:\n",
    "\n",
    "      pip install --upgrade jax\n",
    "      pip install --upgrade \"jax[cuda111]\" -f https://storage.googleapis.com/jax-release.html\n",
    "\n",
    "      export PATH=$PATH:/usr/local/cuda/11.1/bin\n",
    "      \n",
    "This is on my CS account.  I believe the steps are similar to how I installed it on my Ubuntu laptop."
   ]
  },
  {
   "cell_type": "markdown",
   "id": "c042d454",
   "metadata": {},
   "source": [
    "## From Numpy to Jax"
   ]
  },
  {
   "cell_type": "markdown",
   "id": "c44be749",
   "metadata": {},
   "source": [
    "Many `numpy` functions work just the same in `jax`."
   ]
  },
  {
   "cell_type": "code",
   "execution_count": 1,
   "id": "22051d0d",
   "metadata": {
    "ExecuteTime": {
     "end_time": "2022-10-05T20:48:58.793344Z",
     "start_time": "2022-10-05T20:48:55.216200Z"
    },
    "tags": []
   },
   "outputs": [],
   "source": [
    "import numpy as np\n",
    "import matplotlib.pyplot as plt\n",
    "\n",
    "\n",
    "import jax.numpy as jnp\n",
    "import jax"
   ]
  },
  {
   "cell_type": "code",
   "execution_count": 2,
   "id": "9ec414bd",
   "metadata": {
    "ExecuteTime": {
     "end_time": "2022-10-05T20:49:02.251282Z",
     "start_time": "2022-10-05T20:49:02.248303Z"
    },
    "tags": []
   },
   "outputs": [],
   "source": [
    "jax.config.update('jax_platform_name', 'cpu')\n",
    "jax.config.update('jax_enable_x64', True)"
   ]
  },
  {
   "cell_type": "code",
   "execution_count": 3,
   "id": "356037d7",
   "metadata": {
    "ExecuteTime": {
     "end_time": "2022-10-05T20:49:04.262223Z",
     "start_time": "2022-10-05T20:49:04.256374Z"
    },
    "tags": []
   },
   "outputs": [
    {
     "data": {
      "text/plain": [
       "array([[ 1.68857811,  0.05960108, -0.77075943,  0.38207014,  1.19497601],\n",
       "       [ 0.66927807,  0.72811133, -2.18458535, -0.78175567, -0.85240297],\n",
       "       [ 0.74290546,  0.43498539,  1.06970709, -0.9483839 , -2.22084636],\n",
       "       [ 0.74023739,  0.69849817, -0.05544076, -0.1232426 ,  0.63292645],\n",
       "       [-0.28035374,  1.29163498, -0.51663503, -0.90257695,  0.40760411]])"
      ]
     },
     "execution_count": 3,
     "metadata": {},
     "output_type": "execute_result"
    }
   ],
   "source": [
    "n = 5\n",
    "X = np.random.normal(size=(n, n))\n",
    "X"
   ]
  },
  {
   "cell_type": "code",
   "execution_count": 4,
   "id": "ebb842c7",
   "metadata": {
    "ExecuteTime": {
     "end_time": "2022-10-05T20:49:04.972932Z",
     "start_time": "2022-10-05T20:49:04.968421Z"
    },
    "tags": []
   },
   "outputs": [
    {
     "data": {
      "text/plain": [
       "numpy.ndarray"
      ]
     },
     "execution_count": 4,
     "metadata": {},
     "output_type": "execute_result"
    }
   ],
   "source": [
    "type(X)"
   ]
  },
  {
   "cell_type": "code",
   "execution_count": 5,
   "id": "4a00c0e0",
   "metadata": {
    "ExecuteTime": {
     "end_time": "2022-10-05T20:49:07.680652Z",
     "start_time": "2022-10-05T20:49:06.520604Z"
    },
    "tags": []
   },
   "outputs": [
    {
     "data": {
      "text/plain": [
       "Array([[-1.94963384e-01, -1.22714659e+00, -9.17790208e-01,\n",
       "         1.45208933e-01,  1.81519776e-03],\n",
       "       [-7.49586842e-01, -8.02633400e-01,  1.22429120e-01,\n",
       "        -1.75889952e-01,  1.05807414e+00],\n",
       "       [-2.44926166e-01, -7.76449818e-01,  4.07351856e-01,\n",
       "         5.34739321e-01, -1.35932526e+00],\n",
       "       [-2.18004277e+00, -2.71964285e-01,  1.36571531e+00,\n",
       "         3.09982098e-01,  3.47224140e-01],\n",
       "       [-3.68758371e-01,  2.74834294e-01,  1.21677907e+00,\n",
       "        -2.98193408e-01, -1.75672736e+00]], dtype=float64)"
      ]
     },
     "execution_count": 5,
     "metadata": {},
     "output_type": "execute_result"
    }
   ],
   "source": [
    "key = jax.random.PRNGKey(0)\n",
    "Xj = jax.random.normal(key, shape=(n, n), dtype=jnp.float64)\n",
    "Xj"
   ]
  },
  {
   "cell_type": "code",
   "execution_count": 6,
   "id": "053b205e",
   "metadata": {
    "ExecuteTime": {
     "end_time": "2022-10-05T20:49:09.374872Z",
     "start_time": "2022-10-05T20:49:09.361273Z"
    },
    "tags": []
   },
   "outputs": [
    {
     "data": {
      "text/plain": [
       "Array([[ 1.68857811,  0.05960108, -0.77075943,  0.38207014,  1.19497601],\n",
       "       [ 0.66927807,  0.72811133, -2.18458535, -0.78175567, -0.85240297],\n",
       "       [ 0.74290546,  0.43498539,  1.06970709, -0.9483839 , -2.22084636],\n",
       "       [ 0.74023739,  0.69849817, -0.05544076, -0.1232426 ,  0.63292645],\n",
       "       [-0.28035374,  1.29163498, -0.51663503, -0.90257695,  0.40760411]],      dtype=float64)"
      ]
     },
     "execution_count": 6,
     "metadata": {},
     "output_type": "execute_result"
    }
   ],
   "source": [
    "Xj = jnp.array(X)\n",
    "Xj"
   ]
  },
  {
   "cell_type": "code",
   "execution_count": 7,
   "id": "76d3a5ca",
   "metadata": {
    "ExecuteTime": {
     "end_time": "2022-10-05T20:49:14.382048Z",
     "start_time": "2022-10-05T20:49:14.376934Z"
    },
    "tags": []
   },
   "outputs": [
    {
     "data": {
      "text/plain": [
       "Array([[ 1.68857811,  0.05960108, -0.77075943,  0.38207014,  1.19497601],\n",
       "       [ 0.66927807,  0.72811133, -2.18458535, -0.78175567, -0.85240297],\n",
       "       [ 0.74290546,  0.43498539,  1.06970709, -0.9483839 , -2.22084636],\n",
       "       [ 0.74023739,  0.69849817, -0.05544076, -0.1232426 ,  0.63292645],\n",
       "       [-0.28035374,  1.29163498, -0.51663503, -0.90257695,  0.40760411]],      dtype=float64)"
      ]
     },
     "execution_count": 7,
     "metadata": {},
     "output_type": "execute_result"
    }
   ],
   "source": [
    "Xj"
   ]
  },
  {
   "cell_type": "code",
   "execution_count": 8,
   "id": "f03f10d4",
   "metadata": {
    "ExecuteTime": {
     "end_time": "2022-10-05T20:49:15.293181Z",
     "start_time": "2022-10-05T20:49:15.288866Z"
    },
    "tags": []
   },
   "outputs": [
    {
     "data": {
      "text/plain": [
       "jaxlib.xla_extension.ArrayImpl"
      ]
     },
     "execution_count": 8,
     "metadata": {},
     "output_type": "execute_result"
    }
   ],
   "source": [
    "type(Xj)"
   ]
  },
  {
   "cell_type": "code",
   "execution_count": 9,
   "id": "c345a9f6",
   "metadata": {
    "ExecuteTime": {
     "end_time": "2022-10-05T20:49:16.605275Z",
     "start_time": "2022-10-05T20:49:16.601224Z"
    },
    "tags": []
   },
   "outputs": [
    {
     "data": {
      "text/plain": [
       "(dtype('float64'), dtype('float64'))"
      ]
     },
     "execution_count": 9,
     "metadata": {},
     "output_type": "execute_result"
    }
   ],
   "source": [
    "X.dtype, Xj.dtype"
   ]
  },
  {
   "cell_type": "code",
   "execution_count": 10,
   "id": "b8b0da50",
   "metadata": {
    "ExecuteTime": {
     "end_time": "2022-10-05T20:49:18.113453Z",
     "start_time": "2022-10-05T20:49:18.110219Z"
    },
    "tags": []
   },
   "outputs": [
    {
     "data": {
      "text/plain": [
       "'cpu'"
      ]
     },
     "execution_count": 10,
     "metadata": {},
     "output_type": "execute_result"
    }
   ],
   "source": [
    "Xj.device().device_kind"
   ]
  },
  {
   "cell_type": "code",
   "execution_count": 11,
   "id": "cd7cc785",
   "metadata": {
    "ExecuteTime": {
     "end_time": "2022-10-05T20:49:19.276880Z",
     "start_time": "2022-10-05T20:49:19.232845Z"
    },
    "tags": []
   },
   "outputs": [
    {
     "data": {
      "text/plain": [
       "array([[ 5.02286369,  1.5400277 , -2.56031462,  2.043556  ,  0.14401441],\n",
       "       [ 1.5400277 ,  7.08822516,  1.11152221,  0.68196138,  2.23960447],\n",
       "       [-2.56031462,  1.11152221,  7.71698465, -0.49429358, -0.2483188 ],\n",
       "       [ 2.043556  ,  0.68196138, -0.49429358,  1.45470939,  1.09253834],\n",
       "       [ 0.14401441,  2.23960447, -0.2483188 ,  1.09253834,  2.99461717]])"
      ]
     },
     "execution_count": 11,
     "metadata": {},
     "output_type": "execute_result"
    }
   ],
   "source": [
    "X @ X.T"
   ]
  },
  {
   "cell_type": "code",
   "execution_count": 12,
   "id": "9bc844d4",
   "metadata": {
    "ExecuteTime": {
     "end_time": "2022-10-05T20:49:21.845668Z",
     "start_time": "2022-10-05T20:49:21.809040Z"
    },
    "tags": []
   },
   "outputs": [
    {
     "data": {
      "text/plain": [
       "Array([[ 5.02286369,  1.5400277 , -2.56031462,  2.043556  ,  0.14401441],\n",
       "       [ 1.5400277 ,  7.08822516,  1.11152221,  0.68196138,  2.23960447],\n",
       "       [-2.56031462,  1.11152221,  7.71698465, -0.49429358, -0.2483188 ],\n",
       "       [ 2.043556  ,  0.68196138, -0.49429358,  1.45470939,  1.09253834],\n",
       "       [ 0.14401441,  2.23960447, -0.2483188 ,  1.09253834,  2.99461717]],      dtype=float64)"
      ]
     },
     "execution_count": 12,
     "metadata": {},
     "output_type": "execute_result"
    }
   ],
   "source": [
    "Xj @ Xj.T"
   ]
  },
  {
   "cell_type": "markdown",
   "id": "de1c9a5f",
   "metadata": {},
   "source": [
    "Is jax any faster at this matrix multiplication?"
   ]
  },
  {
   "cell_type": "code",
   "execution_count": 15,
   "id": "e8228f3d",
   "metadata": {
    "ExecuteTime": {
     "end_time": "2022-10-05T20:49:40.944939Z",
     "start_time": "2022-10-05T20:49:25.156046Z"
    },
    "tags": []
   },
   "outputs": [
    {
     "name": "stdout",
     "output_type": "stream",
     "text": [
      "1.96 µs ± 3.1 ns per loop (mean ± std. dev. of 7 runs, 1,000,000 loops each)\n"
     ]
    }
   ],
   "source": [
    "%timeit X @ X.T"
   ]
  },
  {
   "cell_type": "code",
   "execution_count": 16,
   "id": "9a5aeb44",
   "metadata": {
    "ExecuteTime": {
     "end_time": "2022-10-05T20:49:49.083432Z",
     "start_time": "2022-10-05T20:49:42.796268Z"
    },
    "tags": []
   },
   "outputs": [
    {
     "name": "stdout",
     "output_type": "stream",
     "text": [
      "77.9 µs ± 327 ns per loop (mean ± std. dev. of 7 runs, 10,000 loops each)\n"
     ]
    }
   ],
   "source": [
    "%timeit Xj @ Xj.T"
   ]
  },
  {
   "cell_type": "markdown",
   "id": "3bb9c11c",
   "metadata": {},
   "source": [
    "Disappointed?"
   ]
  },
  {
   "cell_type": "code",
   "execution_count": 17,
   "id": "112af318",
   "metadata": {
    "ExecuteTime": {
     "end_time": "2022-10-05T20:50:02.870009Z",
     "start_time": "2022-10-05T20:50:01.760233Z"
    },
    "tags": []
   },
   "outputs": [],
   "source": [
    "n = 6000\n",
    "X = np.random.normal(size=(n, n)) # .astype('float32')\n",
    "Xj = jnp.array(X)  #jax.random.normal(key, shape=(n, n), dtype=jnp.float64)"
   ]
  },
  {
   "cell_type": "code",
   "execution_count": 18,
   "id": "92fc47f9",
   "metadata": {
    "ExecuteTime": {
     "end_time": "2022-10-05T20:50:03.466382Z",
     "start_time": "2022-10-05T20:50:03.462925Z"
    },
    "tags": []
   },
   "outputs": [
    {
     "data": {
      "text/plain": [
       "(dtype('float64'), dtype('float64'))"
      ]
     },
     "execution_count": 18,
     "metadata": {},
     "output_type": "execute_result"
    }
   ],
   "source": [
    "X.dtype, Xj.dtype"
   ]
  },
  {
   "cell_type": "code",
   "execution_count": 19,
   "id": "4c083449",
   "metadata": {
    "ExecuteTime": {
     "end_time": "2022-10-05T20:50:04.779059Z",
     "start_time": "2022-10-05T20:50:04.776235Z"
    },
    "tags": []
   },
   "outputs": [],
   "source": [
    "def mult(A):\n",
    "    return A @ A.T"
   ]
  },
  {
   "cell_type": "code",
   "execution_count": 20,
   "id": "2afd47e1",
   "metadata": {
    "ExecuteTime": {
     "end_time": "2022-10-05T20:51:04.187083Z",
     "start_time": "2022-10-05T20:50:06.248044Z"
    },
    "tags": []
   },
   "outputs": [
    {
     "name": "stdout",
     "output_type": "stream",
     "text": [
      "numpy float64\n",
      "851 ms ± 1.77 ms per loop (mean ± std. dev. of 7 runs, 1 loop each)\n",
      "jax.numpy float64\n",
      "3.18 s ± 7.77 ms per loop (mean ± std. dev. of 7 runs, 1 loop each)\n",
      "jax.numpy float64\n",
      "3.18 s ± 13 ms per loop (mean ± std. dev. of 7 runs, 1 loop each)\n"
     ]
    }
   ],
   "source": [
    "print('numpy', X.dtype)\n",
    "%timeit mult(X)\n",
    "print('jax.numpy', Xj.dtype)\n",
    "%timeit mult(Xj)\n",
    "print('jax.numpy', Xj.dtype)\n",
    "%timeit mult(Xj).block_until_ready()"
   ]
  },
  {
   "cell_type": "code",
   "execution_count": 21,
   "id": "fa1aa5d4",
   "metadata": {
    "ExecuteTime": {
     "end_time": "2022-10-05T20:51:15.048174Z",
     "start_time": "2022-10-05T20:51:04.188752Z"
    },
    "tags": []
   },
   "outputs": [
    {
     "name": "stdout",
     "output_type": "stream",
     "text": [
      "numpy float32\n",
      "448 ms ± 2.57 ms per loop (mean ± std. dev. of 7 runs, 1 loop each)\n",
      "jax.numpy float32\n",
      "857 ms ± 3.54 ms per loop (mean ± std. dev. of 7 runs, 1 loop each)\n"
     ]
    }
   ],
   "source": [
    "X = X.astype(np.float32)\n",
    "Xj = Xj.astype(jnp.float32)\n",
    "\n",
    "print('numpy', X.dtype)\n",
    "%timeit mult(X)\n",
    "print('jax.numpy', Xj.dtype)\n",
    "%timeit mult(Xj)"
   ]
  },
  {
   "cell_type": "markdown",
   "id": "b962631b",
   "metadata": {},
   "source": [
    "## Compiling"
   ]
  },
  {
   "cell_type": "code",
   "execution_count": 22,
   "id": "c1b63d90",
   "metadata": {
    "ExecuteTime": {
     "end_time": "2022-10-05T20:51:22.785664Z",
     "start_time": "2022-10-05T20:51:21.936167Z"
    },
    "scrolled": true,
    "tags": []
   },
   "outputs": [
    {
     "data": {
      "text/plain": [
       "Array([[6045.6074  ,  -96.01217 ,  -27.886976, ...,  -38.1436  ,\n",
       "        -146.98375 ,   22.061657],\n",
       "       [ -96.01217 , 6003.3267  ,  -30.438251, ...,   53.21705 ,\n",
       "          65.18721 ,   19.129574],\n",
       "       [ -27.886976,  -30.438251, 5961.9673  , ...,  108.88704 ,\n",
       "         135.72621 ,   27.356514],\n",
       "       ...,\n",
       "       [ -38.1436  ,   53.21705 ,  108.88704 , ..., 6092.345   ,\n",
       "         136.20265 ,   47.725765],\n",
       "       [-146.98375 ,   65.18721 ,  135.72621 , ...,  136.20265 ,\n",
       "        5900.9517  ,  -80.746315],\n",
       "       [  22.061657,   19.129574,   27.356514, ...,   47.725765,\n",
       "         -80.746315, 6106.85    ]], dtype=float32)"
      ]
     },
     "execution_count": 22,
     "metadata": {},
     "output_type": "execute_result"
    }
   ],
   "source": [
    "mult_jit = jax.jit(mult)\n",
    "mult_jit(Xj).block_until_ready()  # run once for the compilation to be completed"
   ]
  },
  {
   "cell_type": "code",
   "execution_count": 23,
   "id": "e0a65b3f",
   "metadata": {
    "ExecuteTime": {
     "end_time": "2022-10-05T20:51:34.884541Z",
     "start_time": "2022-10-05T20:51:33.795498Z"
    },
    "tags": []
   },
   "outputs": [],
   "source": [
    "n = 6000\n",
    "X = np.random.normal(size=(n, n)) # .astype('float32')\n",
    "Xj = jnp.array(X)  #jax.random.normal(key, shape=(n, n), dtype=jnp.float64)"
   ]
  },
  {
   "cell_type": "code",
   "execution_count": 24,
   "id": "3794a6ff",
   "metadata": {
    "ExecuteTime": {
     "end_time": "2022-10-05T20:51:35.556463Z",
     "start_time": "2022-10-05T20:51:35.552419Z"
    },
    "tags": []
   },
   "outputs": [
    {
     "data": {
      "text/plain": [
       "(dtype('float64'), dtype('float64'))"
      ]
     },
     "execution_count": 24,
     "metadata": {},
     "output_type": "execute_result"
    }
   ],
   "source": [
    "X.dtype, Xj.dtype"
   ]
  },
  {
   "cell_type": "code",
   "execution_count": 25,
   "id": "5cf20f2f",
   "metadata": {
    "ExecuteTime": {
     "end_time": "2022-10-05T20:52:34.482948Z",
     "start_time": "2022-10-05T20:51:37.164362Z"
    },
    "tags": []
   },
   "outputs": [
    {
     "name": "stdout",
     "output_type": "stream",
     "text": [
      "numpy float64\n",
      "849 ms ± 7.95 ms per loop (mean ± std. dev. of 7 runs, 1 loop each)\n",
      "jax.numpy float64\n",
      "3.18 s ± 13.7 ms per loop (mean ± std. dev. of 7 runs, 1 loop each)\n",
      "jax.numpy jit float64\n",
      "3.13 s ± 16.1 ms per loop (mean ± std. dev. of 7 runs, 1 loop each)\n"
     ]
    }
   ],
   "source": [
    "print('numpy', X.dtype)\n",
    "%timeit mult(X)\n",
    "print('jax.numpy', Xj.dtype)\n",
    "%timeit mult(Xj)\n",
    "print('jax.numpy jit', Xj.dtype)\n",
    "%timeit mult_jit(Xj)"
   ]
  },
  {
   "cell_type": "code",
   "execution_count": 26,
   "id": "7145c661",
   "metadata": {
    "ExecuteTime": {
     "end_time": "2022-10-05T20:53:19.944379Z",
     "start_time": "2022-10-05T20:53:02.660365Z"
    },
    "tags": []
   },
   "outputs": [
    {
     "name": "stdout",
     "output_type": "stream",
     "text": [
      "numpy float32\n",
      "486 ms ± 9.38 ms per loop (mean ± std. dev. of 7 runs, 1 loop each)\n",
      "jax.numpy float32\n",
      "870 ms ± 8.17 ms per loop (mean ± std. dev. of 7 runs, 1 loop each)\n",
      "jax.numpy jit float32\n",
      "842 ms ± 2.98 ms per loop (mean ± std. dev. of 7 runs, 1 loop each)\n"
     ]
    }
   ],
   "source": [
    "X = X.astype(np.float32)\n",
    "Xj = Xj.astype(jnp.float32)\n",
    "\n",
    "print('numpy', X.dtype)\n",
    "%timeit mult(X)\n",
    "print('jax.numpy', Xj.dtype)\n",
    "%timeit mult(Xj)\n",
    "print('jax.numpy jit', Xj.dtype)\n",
    "%timeit mult_jit(Xj)"
   ]
  },
  {
   "cell_type": "code",
   "execution_count": 27,
   "id": "69c01d51",
   "metadata": {
    "ExecuteTime": {
     "end_time": "2022-10-05T20:55:02.621257Z",
     "start_time": "2022-10-05T20:53:25.568491Z"
    },
    "tags": []
   },
   "outputs": [],
   "source": [
    "import time\n",
    "\n",
    "result = []\n",
    "\n",
    "for n in range(0, 10000, 1000):\n",
    "    X = np.random.normal(size=(n, n)).astype(np.float64)\n",
    "    Xj = jnp.array(X).astype(jnp.float64)\n",
    "    \n",
    "    start_time = time.time()\n",
    "    mult(X)\n",
    "    np_time64 = time.time() - start_time\n",
    "\n",
    "    start_time = time.time()\n",
    "    mult(Xj)\n",
    "    jnp_time64 = time.time() - start_time\n",
    "\n",
    "    start_time = time.time()\n",
    "    mult_jit(Xj)\n",
    "    jnp_jit_time64 = time.time() - start_time\n",
    "        \n",
    "    X = X.astype(np.float32)\n",
    "    Xj = Xj.astype(jnp.float32)\n",
    "    \n",
    "    start_time = time.time()\n",
    "    mult(X)\n",
    "    np_time32 = time.time() - start_time\n",
    "    \n",
    "    start_time = time.time()\n",
    "    mult(Xj)\n",
    "    jnp_time32 = time.time() - start_time\n",
    "\n",
    "    start_time = time.time()\n",
    "    mult_jit(Xj)\n",
    "    jnp_jit_time32 = time.time() - start_time\n",
    "\n",
    "    result.append([n, np_time64, jnp_time64, jnp_jit_time64, np_time32, jnp_time32, jnp_jit_time32])"
   ]
  },
  {
   "cell_type": "code",
   "execution_count": 28,
   "id": "74b154be",
   "metadata": {
    "ExecuteTime": {
     "end_time": "2022-10-05T20:55:02.656330Z",
     "start_time": "2022-10-05T20:55:02.623018Z"
    },
    "tags": []
   },
   "outputs": [
    {
     "data": {
      "image/png": "[encoded data removed]",
      "text/plain": [
       "<Figure size 640x480 with 1 Axes>"
      ]
     },
     "metadata": {},
     "output_type": "display_data"
    }
   ],
   "source": [
    "result = np.array(result)\n",
    "plt.figure()\n",
    "plt.plot(result[:, 0], result[:, 1:], 'o-', label=('np 64', 'jnp 64', 'jnp jit 64',\n",
    "                                                   'np 32', 'jnp 32', 'jnp jit 32'))\n",
    "plt.legend();"
   ]
  },
  {
   "cell_type": "markdown",
   "id": "d62e6a57",
   "metadata": {},
   "source": [
    "## JAX: The Sharp Bits\n",
    "\n",
    "This article on [The Sharp Bits](https://jax.readthedocs.io/en/latest/notebooks/Common_Gotchas_in_JAX.html) will be helpful when you run into issues with Jax."
   ]
  },
  {
   "cell_type": "markdown",
   "id": "b7f4dea0",
   "metadata": {},
   "source": [
    "## Running on  a GPU"
   ]
  },
  {
   "cell_type": "markdown",
   "id": "5182b50e",
   "metadata": {},
   "source": [
    "For the following config.update to have an effect, we just restart the kernel and jump down to this cell to start executing."
   ]
  },
  {
   "cell_type": "code",
   "execution_count": 1,
   "id": "963a75d4",
   "metadata": {
    "ExecuteTime": {
     "end_time": "2022-10-05T23:02:54.963622Z",
     "start_time": "2022-10-05T23:02:54.959307Z"
    },
    "tags": []
   },
   "outputs": [],
   "source": [
    "import numpy as np\n",
    "import matplotlib.pyplot as plt\n",
    "\n",
    "import time\n",
    "\n",
    "import jax.numpy as jnp\n",
    "\n",
    "import jax\n",
    "\n",
    "#jax.config.update('jax_platform_name', 'gpu')"
   ]
  },
  {
   "cell_type": "code",
   "execution_count": 10,
   "id": "e002b855",
   "metadata": {
    "tags": []
   },
   "outputs": [],
   "source": [
    "# jax.clear_backends()"
   ]
  },
  {
   "cell_type": "code",
   "execution_count": 2,
   "id": "da81d7c3",
   "metadata": {
    "ExecuteTime": {
     "end_time": "2022-10-05T23:02:57.148121Z",
     "start_time": "2022-10-05T23:02:55.936955Z"
    },
    "scrolled": true,
    "tags": []
   },
   "outputs": [
    {
     "name": "stderr",
     "output_type": "stream",
     "text": [
      "/tmp/ipykernel_2326745/4271190617.py:3: UserWarning: Explicitly requested dtype <class 'jax.numpy.float64'> requested in astype is not available, and will be truncated to dtype float32. To enable more dtypes, set the jax_enable_x64 configuration option or the JAX_ENABLE_X64 shell environment variable. See https://github.com/google/jax#current-gotchas for more.\n",
      "  Xj = jnp.array(X).astype(jnp.float64)\n"
     ]
    }
   ],
   "source": [
    "n = 6000\n",
    "X = np.random.normal(size=(n, n)).astype(np.float64)\n",
    "Xj = jnp.array(X).astype(jnp.float64)\n",
    "    "
   ]
  },
  {
   "cell_type": "code",
   "execution_count": 3,
   "id": "4c1c2938",
   "metadata": {
    "ExecuteTime": {
     "end_time": "2022-10-05T23:02:58.904803Z",
     "start_time": "2022-10-05T23:02:57.848452Z"
    },
    "scrolled": true,
    "tags": []
   },
   "outputs": [],
   "source": [
    "n = 6000\n",
    "X = np.random.normal(size=(n, n)).astype(np.float32)\n",
    "Xj = jnp.array(X).astype(jnp.float32)\n",
    "    "
   ]
  },
  {
   "cell_type": "code",
   "execution_count": 4,
   "id": "17a7522e",
   "metadata": {
    "ExecuteTime": {
     "end_time": "2022-10-05T23:02:59.134067Z",
     "start_time": "2022-10-05T23:02:59.130897Z"
    },
    "tags": []
   },
   "outputs": [
    {
     "data": {
      "text/plain": [
       "'NVIDIA TITAN Xp'"
      ]
     },
     "execution_count": 4,
     "metadata": {},
     "output_type": "execute_result"
    }
   ],
   "source": [
    "Xj.device().device_kind"
   ]
  },
  {
   "cell_type": "code",
   "execution_count": 5,
   "id": "8c0a9674",
   "metadata": {
    "ExecuteTime": {
     "end_time": "2022-10-05T23:03:02.147237Z",
     "start_time": "2022-10-05T23:03:00.333168Z"
    },
    "tags": []
   },
   "outputs": [
    {
     "data": {
      "text/plain": [
       "Array([[ 6.05373535e+03, -7.55583191e+01,  1.01591118e+02, ...,\n",
       "        -5.67661381e+00, -6.59453430e+01,  5.12776184e+00],\n",
       "       [-7.55583191e+01,  6.04930859e+03, -1.79596710e+01, ...,\n",
       "         4.50833435e+01,  1.68980694e+01, -4.01565094e+01],\n",
       "       [ 1.01591118e+02, -1.79596710e+01,  6.00212256e+03, ...,\n",
       "         1.07424545e+02,  1.39693069e+00, -1.25562111e+02],\n",
       "       ...,\n",
       "       [-5.67661381e+00,  4.50833435e+01,  1.07424545e+02, ...,\n",
       "         5.86766504e+03,  1.53462296e+01, -9.82245789e+01],\n",
       "       [-6.59453430e+01,  1.68980694e+01,  1.39693069e+00, ...,\n",
       "         1.53462296e+01,  5.90022266e+03, -3.08547058e+01],\n",
       "       [ 5.12776184e+00, -4.01565094e+01, -1.25562111e+02, ...,\n",
       "        -9.82245789e+01, -3.08547058e+01,  5.87743701e+03]],      dtype=float32)"
      ]
     },
     "execution_count": 5,
     "metadata": {},
     "output_type": "execute_result"
    }
   ],
   "source": [
    "def mult(A):\n",
    "    return A @ A.T\n",
    "\n",
    "mult_jit = jax.jit(mult)\n",
    "mult_jit(Xj).block_until_ready()  # run once for the compilation to be "
   ]
  },
  {
   "cell_type": "code",
   "execution_count": 18,
   "id": "929421bc",
   "metadata": {
    "ExecuteTime": {
     "end_time": "2022-10-05T23:03:38.240124Z",
     "start_time": "2022-10-05T23:03:02.148694Z"
    },
    "tags": []
   },
   "outputs": [],
   "source": [
    "result = []\n",
    "\n",
    "for n in range(0, 10000, 1000):\n",
    "    X = np.random.normal(size=(n, n)).astype(np.float32)\n",
    "    Xj = jnp.array(X).astype(jnp.float32)\n",
    "\n",
    "    start_time = time.time()\n",
    "    mult(X)\n",
    "    np_time32 = time.time() - start_time\n",
    "    \n",
    "    mult(Xj).block_until_ready()\n",
    "    \n",
    "    start_time = time.time()\n",
    "    mult(Xj).block_until_ready()\n",
    "    jnp_time32 = time.time() - start_time\n",
    "\n",
    "    mult_jit(Xj).block_until_ready()\n",
    "    \n",
    "    start_time = time.time()\n",
    "    mult_jit(Xj).block_until_ready()\n",
    "    jnp_jit_time32 = time.time() - start_time\n",
    "\n",
    "    \n",
    "    result.append([n, np_time32, jnp_time32, jnp_jit_time32])"
   ]
  },
  {
   "cell_type": "code",
   "execution_count": 19,
   "id": "cdc6201e",
   "metadata": {
    "ExecuteTime": {
     "end_time": "2022-10-05T23:03:38.271662Z",
     "start_time": "2022-10-05T23:03:38.242297Z"
    },
    "tags": []
   },
   "outputs": [
    {
     "data": {
      "image/png": "[encoded data removed]",
      "text/plain": [
       "<Figure size 640x480 with 1 Axes>"
      ]
     },
     "metadata": {},
     "output_type": "display_data"
    }
   ],
   "source": [
    "result = np.array(result)\n",
    "plt.figure()\n",
    "plt.plot(result[:, 0], result[:, 1:], 'o-', label=('np 32', 'jnp gpu 32', 'jnp gpu jit 32'))\n",
    "plt.legend();"
   ]
  },
  {
   "cell_type": "markdown",
   "id": "b9f5aeaa",
   "metadata": {},
   "source": [
    "## How about some Neural Network code?"
   ]
  },
  {
   "cell_type": "markdown",
   "id": "ee8290d7",
   "metadata": {},
   "source": [
    "Again, restart kernel and jump to this code cell to start."
   ]
  },
  {
   "cell_type": "code",
   "execution_count": 1,
   "id": "c9a3d3e4",
   "metadata": {
    "ExecuteTime": {
     "end_time": "2022-10-05T23:04:08.098853Z",
     "start_time": "2022-10-05T23:04:06.670764Z"
    },
    "tags": []
   },
   "outputs": [],
   "source": [
    "import numpy as np\n",
    "import matplotlib.pyplot as plt\n",
    "\n",
    "import time\n",
    "\n",
    "import jax\n",
    "import jax.numpy as jnp\n",
    "\n",
    "jax.config.update('jax_platform_name', 'cpu')"
   ]
  },
  {
   "cell_type": "code",
   "execution_count": 2,
   "id": "6fe3c5ee",
   "metadata": {
    "ExecuteTime": {
     "end_time": "2022-10-05T23:04:08.106525Z",
     "start_time": "2022-10-05T23:04:08.100514Z"
    },
    "tags": []
   },
   "outputs": [],
   "source": [
    "def init_weights():\n",
    "    return[np.random.uniform(-1.0, 1.0, size=(4, 10)) / np.sqrt(4),\n",
    "           np.random.uniform(-1.0, 1.0, size=(11, 1)) / np.sqrt(11)]\n",
    "\n",
    "def nnet(Ws, X):\n",
    "    Z = np.tanh(X @ Ws[0][1:, :] + Ws[0][0:1, :])\n",
    "    Y = Z @ Ws[1][1:, :] + Ws[1][0:1, :]\n",
    "    return Z, Y\n",
    "\n",
    "def mse(Ws, X, T):\n",
    "    _, Y = nnet(Ws, X)\n",
    "    return np.mean((Y - T)**2)\n",
    "\n",
    "def mse_grad_def(Ws, X, T):\n",
    "    Z, Y = nnet(Ws, X)\n",
    "    n_samples, n_outputs = T.shape\n",
    "    D = -(T - Y) / (n_samples * n_outputs)\n",
    "    gradients = [np.vstack((np.sum(D, axis=0), Z.T @ D))]\n",
    "    D = D @ Ws[1][1:, :].T * (1 - Z ** 2)\n",
    "    gradients = [np.vstack((np.sum(D, axis=0), X.T @ D))] + gradients\n",
    "    return gradients"
   ]
  },
  {
   "cell_type": "code",
   "execution_count": 3,
   "id": "eb187930",
   "metadata": {
    "ExecuteTime": {
     "end_time": "2022-10-05T23:04:12.558829Z",
     "start_time": "2022-10-05T23:04:08.107878Z"
    },
    "tags": []
   },
   "outputs": [
    {
     "name": "stdout",
     "output_type": "stream",
     "text": [
      "train took 5.408488035202026 seconds\n"
     ]
    }
   ],
   "source": [
    "X = np.arange(60000).reshape((20000, 3)).astype(np.float32)\n",
    "T = X[:, 0:1] / 100  #  * X[:, 1:2] / 10000\n",
    "\n",
    "def train(X, T, Ws, n_updates, learning_rate, gf):\n",
    "    for update_i in range(n_updates):\n",
    "        gradients = gf(Ws, X, T)\n",
    "        for W, grad in zip(Ws, gradients):\n",
    "            W[:] = W - learning_rate * grad  # W -= learning_rate * grad did not work.\n",
    "    # print(np.hstack((T, nnet(Ws, X)[1])))\n",
    "\n",
    "Ws = init_weights()\n",
    "start = time.time()\n",
    "train(X, T, Ws, 1000, 0.01, mse_grad_def)\n",
    "print('train took', time.time() - start, 'seconds')"
   ]
  },
  {
   "cell_type": "code",
   "execution_count": 4,
   "id": "1d2d3df3",
   "metadata": {
    "ExecuteTime": {
     "end_time": "2022-10-05T23:04:18.606527Z",
     "start_time": "2022-10-05T23:04:18.210432Z"
    },
    "tags": []
   },
   "outputs": [
    {
     "data": {
      "image/png": "[encoded data removed]",
      "text/plain": [
       "<Figure size 640x480 with 1 Axes>"
      ]
     },
     "metadata": {},
     "output_type": "display_data"
    }
   ],
   "source": [
    "def f(x):\n",
    "    return jnp.sin(x)\n",
    "\n",
    "xs = jnp.linspace(-10, 10, 100)\n",
    "plt.plot(xs, f(xs))\n",
    "\n",
    "df = jax.grad(f)\n",
    "\n",
    "plt.plot(xs, [df(x) for x in xs]);"
   ]
  },
  {
   "cell_type": "code",
   "execution_count": 5,
   "id": "a50070b2",
   "metadata": {
    "ExecuteTime": {
     "end_time": "2022-10-05T23:04:23.843799Z",
     "start_time": "2022-10-05T23:04:23.271870Z"
    },
    "scrolled": true,
    "tags": []
   },
   "outputs": [],
   "source": [
    "def jnnet(Ws, X):\n",
    "    Z = jnp.tanh(X @ Ws[0][1:, :] + Ws[0][0:1, :])\n",
    "    Y = Z @ Ws[1][1:, :] + Ws[1][0:1, :]\n",
    "    return Z, Y\n",
    "\n",
    "def jmse(Ws, X, T):\n",
    "    _, Y = jnnet(Ws, X)\n",
    "    return jnp.mean((Y - T)**2)\n",
    "\n",
    "jmse(Ws, X, T)\n",
    "mse_grad = jax.grad(jmse)\n",
    "mse_grad_jit = jax.jit(jax.grad(jmse))\n",
    "mse_grad_jit(Ws, X, T);"
   ]
  },
  {
   "cell_type": "code",
   "execution_count": 6,
   "id": "10df2a29",
   "metadata": {
    "ExecuteTime": {
     "end_time": "2022-10-05T23:04:26.369116Z",
     "start_time": "2022-10-05T23:04:23.862650Z"
    },
    "tags": []
   },
   "outputs": [
    {
     "name": "stdout",
     "output_type": "stream",
     "text": [
      "numpy took 0.5365610122680664 seconds\n",
      "jax auto took 1.5282797813415527 seconds\n",
      "jax compiled auto: took 0.1112527847290039 seconds\n"
     ]
    }
   ],
   "source": [
    "n_epochs = 100\n",
    "\n",
    "Ws = init_weights()\n",
    "start = time.time()\n",
    "train(X, T, Ws, n_epochs, 0.01, mse_grad_def)\n",
    "np_time = time.time() - start\n",
    "print('numpy took', np_time, 'seconds')\n",
    "\n",
    "Ws = init_weights()\n",
    "start = time.time()\n",
    "train(X, T, Ws, n_epochs, 0.01, mse_grad)\n",
    "print('jax auto took', time.time() - start, 'seconds')\n",
    "\n",
    "Ws = init_weights()\n",
    "start = time.time()\n",
    "train(X, T, Ws, n_epochs, 0.01, mse_grad_jit)\n",
    "compiled_time = time.time() - start\n",
    "print('jax compiled auto: took', compiled_time, 'seconds')"
   ]
  },
  {
   "cell_type": "code",
   "execution_count": 7,
   "id": "2ef80ab9",
   "metadata": {
    "ExecuteTime": {
     "end_time": "2022-10-05T23:04:26.373643Z",
     "start_time": "2022-10-05T23:04:26.370826Z"
    },
    "tags": []
   },
   "outputs": [
    {
     "name": "stdout",
     "output_type": "stream",
     "text": [
      "jax compiled autograd is 4.822899611682111 times faster than numpy\n"
     ]
    }
   ],
   "source": [
    "print('jax compiled autograd is', np_time / compiled_time, 'times faster than numpy')"
   ]
  },
  {
   "cell_type": "markdown",
   "id": "85bdeeb0",
   "metadata": {},
   "source": [
    "Now, let's run on the gpu! Again, restart the kernel and jump to this cell."
   ]
  },
  {
   "cell_type": "code",
   "execution_count": 1,
   "id": "03f5a9e8",
   "metadata": {
    "tags": []
   },
   "outputs": [],
   "source": [
    "import numpy as np\n",
    "import matplotlib.pyplot as plt\n",
    "\n",
    "import time\n",
    "\n",
    "import jax\n",
    "import jax.numpy as jnp\n",
    "\n",
    "jax.config.update('jax_platform_name', 'gpu')"
   ]
  },
  {
   "cell_type": "code",
   "execution_count": 2,
   "id": "010c49dc",
   "metadata": {
    "ExecuteTime": {
     "end_time": "2022-10-05T23:04:40.212494Z",
     "start_time": "2022-10-05T23:04:40.206378Z"
    },
    "tags": []
   },
   "outputs": [],
   "source": [
    "def init_weights():\n",
    "    return[np.random.uniform(-1.0, 1.0, size=(4, 10)).astype(np.float32) / np.sqrt(4),\n",
    "           np.random.uniform(-1.0, 1.0, size=(11, 100)).astype(np.float32) / np.sqrt(11)]\n",
    "\n",
    "def nnet(Ws, X):\n",
    "    Z = np.tanh(X @ Ws[0][1:, :] + Ws[0][0:1, :])\n",
    "    Y = Z @ Ws[1][1:, :] + Ws[1][0:1, :]\n",
    "    return Z, Y\n",
    "\n",
    "def mse(Ws, X, T):\n",
    "    _, Y = nnet(Ws, X)\n",
    "    return np.mean((Y - T)**2)\n",
    "\n",
    "def mse_grad_def(Ws, X, T):\n",
    "    Z, Y = nnet(Ws, X)\n",
    "    n_samples, n_outputs = T.shape\n",
    "    D = -(T - Y) / (n_samples * n_outputs)\n",
    "    gradients = [np.vstack((np.sum(D, axis=0), Z.T @ D))]\n",
    "    D = D @ Ws[1][1:, :].T * (1 - Z ** 2)\n",
    "    gradients = [np.vstack((np.sum(D, axis=0), X.T @ D))] + gradients\n",
    "    return gradients"
   ]
  },
  {
   "cell_type": "code",
   "execution_count": 3,
   "id": "00a3c117",
   "metadata": {
    "ExecuteTime": {
     "end_time": "2022-10-05T23:04:56.910356Z",
     "start_time": "2022-10-05T23:04:40.214050Z"
    },
    "scrolled": true,
    "tags": []
   },
   "outputs": [
    {
     "name": "stdout",
     "output_type": "stream",
     "text": [
      "train took 16.458560466766357 seconds\n"
     ]
    }
   ],
   "source": [
    "X = np.arange(60000*2).reshape((20000*2, 3)).astype(np.float32) \n",
    "T = X[:, 0:1] / 100  #  * X[:, 1:2] / 10000\n",
    "\n",
    "def train(X, T, Ws, n_updates, learning_rate, gf):\n",
    "    for _ in range(n_updates):\n",
    "        gradients = gf(Ws, X, T)\n",
    "        Ws = [W - learning_rate * g for (W, g) in zip(Ws, gradients)]\n",
    "\n",
    "Ws = init_weights()\n",
    "start = time.time()\n",
    "train(X, T, Ws, 1000, 0.01, mse_grad_def)\n",
    "print('train took', time.time() - start, 'seconds')"
   ]
  },
  {
   "cell_type": "code",
   "execution_count": 4,
   "id": "1219e767",
   "metadata": {
    "ExecuteTime": {
     "end_time": "2022-10-05T23:04:58.467855Z",
     "start_time": "2022-10-05T23:04:56.912504Z"
    },
    "scrolled": true,
    "tags": []
   },
   "outputs": [],
   "source": [
    "Xj = jnp.array(X).astype(jnp.float32)\n",
    "Tj = jnp.array(T).astype(jnp.float32)\n",
    "Wsj = [jnp.array(W) for W in Ws]\n",
    "\n",
    "def jnnet(Ws, X):\n",
    "    Z = jnp.tanh(X @ Ws[0][1:, :] + Ws[0][0:1, :])\n",
    "    Y = Z @ Ws[1][1:, :] + Ws[1][0:1, :]\n",
    "    return Z, Y\n",
    "\n",
    "def jmse(Ws, X, T):\n",
    "    _, Y = jnnet(Ws, X)\n",
    "    return jnp.mean((Y - T)**2)\n",
    "\n",
    "jmse(Wsj, Xj, Tj)\n",
    "mse_grad = jax.grad(jmse)\n",
    "mse_grad_jit = jax.jit(jax.grad(jmse))\n",
    "mse_grad_jit(Wsj, Xj, Tj);"
   ]
  },
  {
   "cell_type": "code",
   "execution_count": 5,
   "id": "3814dd2a",
   "metadata": {
    "ExecuteTime": {
     "end_time": "2022-10-05T23:05:03.069562Z",
     "start_time": "2022-10-05T23:04:58.469202Z"
    },
    "tags": []
   },
   "outputs": [
    {
     "name": "stdout",
     "output_type": "stream",
     "text": [
      "numpy took 1.9407410621643066 seconds\n",
      "jax auto took 2.207735776901245 seconds\n",
      "jax compiled auto: took 0.06343841552734375 seconds\n"
     ]
    }
   ],
   "source": [
    "n_epochs = 100\n",
    "\n",
    "Ws = init_weights()\n",
    "start = time.time()\n",
    "train(X, T, Ws, n_epochs, 0.01, mse_grad_def)\n",
    "np_time = time.time() - start\n",
    "print('numpy took', np_time, 'seconds')\n",
    "\n",
    "Ws = init_weights()\n",
    "Wsj = [jnp.array(W) for W in Ws]\n",
    "start = time.time()\n",
    "train(Xj, Tj, Wsj, n_epochs, 0.01, mse_grad)\n",
    "print('jax auto took', time.time() - start, 'seconds')\n",
    "\n",
    "Ws = init_weights()\n",
    "Wsj = [jnp.array(W) for W in Ws]\n",
    "start = time.time()\n",
    "train(Xj, Tj, Wsj, n_epochs, 0.01, mse_grad_jit)\n",
    "compiled_time = time.time() - start\n",
    "print('jax compiled auto: took', compiled_time, 'seconds')"
   ]
  },
  {
   "cell_type": "code",
   "execution_count": 6,
   "id": "38671901",
   "metadata": {
    "ExecuteTime": {
     "end_time": "2022-10-05T23:05:03.074032Z",
     "start_time": "2022-10-05T23:05:03.071574Z"
    },
    "tags": []
   },
   "outputs": [
    {
     "name": "stdout",
     "output_type": "stream",
     "text": [
      "jax compiled autograd is 30.592521046301865 times faster than numpy\n"
     ]
    }
   ],
   "source": [
    "print('jax compiled autograd is', np_time / compiled_time, 'times faster than numpy')"
   ]
  },
  {
   "cell_type": "code",
   "execution_count": 7,
   "id": "7d292de1",
   "metadata": {
    "ExecuteTime": {
     "end_time": "2022-10-05T23:05:07.431470Z",
     "start_time": "2022-10-05T23:05:07.421300Z"
    },
    "scrolled": true,
    "tags": []
   },
   "outputs": [
    {
     "data": {
      "text/plain": [
       "'NVIDIA TITAN Xp'"
      ]
     },
     "execution_count": 7,
     "metadata": {},
     "output_type": "execute_result"
    }
   ],
   "source": [
    "jnnet(Wsj, Xj)[0].device().device_kind"
   ]
  },
  {
   "cell_type": "code",
   "execution_count": null,
   "id": "271d75e3",
   "metadata": {},
   "outputs": [],
   "source": []
  }
 ],
 "metadata": {
  "kernelspec": {
   "display_name": "Python 3 (ipykernel)",
   "language": "python",
   "name": "python3"
  },
  "language_info": {
   "codemirror_mode": {
    "name": "ipython",
    "version": 3
   },
   "file_extension": ".py",
   "mimetype": "text/x-python",
   "name": "python",
   "nbconvert_exporter": "python",
   "pygments_lexer": "ipython3",
   "version": "3.11.5"
  },
  "toc": {
   "base_numbering": 1,
   "nav_menu": {},
   "number_sections": false,
   "sideBar": true,
   "skip_h1_title": false,
   "title_cell": "Table of Contents",
   "title_sidebar": "Contents",
   "toc_cell": false,
   "toc_position": {},
   "toc_section_display": true,
   "toc_window_display": false
  }
 },
 "nbformat": 4,
 "nbformat_minor": 5
}
