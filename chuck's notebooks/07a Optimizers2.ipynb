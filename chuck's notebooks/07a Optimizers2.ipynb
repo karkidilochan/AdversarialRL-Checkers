{
 "cells": [
  {
   "cell_type": "markdown",
   "metadata": {
    "toc": true
   },
   "source": [
    "<h1>Table of Contents<span class=\"tocSkip\"></span></h1>\n",
    "<div class=\"toc\"><ul class=\"toc-item\"><li><ul class=\"toc-item\"><li><span><a href=\"#SGD\" data-toc-modified-id=\"SGD-0.1\"><span class=\"toc-item-num\">0.1&nbsp;&nbsp;</span>SGD</a></span></li><li><span><a href=\"#AdamW\" data-toc-modified-id=\"AdamW-0.2\"><span class=\"toc-item-num\">0.2&nbsp;&nbsp;</span>AdamW</a></span></li><li><span><a href=\"#SCG\" data-toc-modified-id=\"SCG-0.3\"><span class=\"toc-item-num\">0.3&nbsp;&nbsp;</span>SCG</a></span></li></ul></li><li><span><a href=\"#Demonstration-of-Training-Weights-for-Neural-Network-with-Single-Hidden-Layer\" data-toc-modified-id=\"Demonstration-of-Training-Weights-for-Neural-Network-with-Single-Hidden-Layer-1\"><span class=\"toc-item-num\">1&nbsp;&nbsp;</span>Demonstration of Training Weights for Neural Network with Single Hidden Layer</a></span></li></ul></div>"
   ]
  },
  {
   "cell_type": "markdown",
   "metadata": {},
   "source": [
    "$\\newcommand{\\xv}{\\mathbf{x}}\n",
    "\\newcommand{\\Xv}{\\mathbf{X}}\n",
    "\\newcommand{\\yv}{\\mathbf{y}}\n",
    "\\newcommand{\\Yv}{\\mathbf{Y}}\n",
    "\\newcommand{\\zv}{\\mathbf{z}}\n",
    "\\newcommand{\\av}{\\mathbf{a}}\n",
    "\\newcommand{\\Wv}{\\mathbf{W}}\n",
    "\\newcommand{\\wv}{\\mathbf{w}}\n",
    "\\newcommand{\\gv}{\\mathbf{g}}\n",
    "\\newcommand{\\Hv}{\\mathbf{H}}\n",
    "\\newcommand{\\dv}{\\mathbf{d}}\n",
    "\\newcommand{\\Vv}{\\mathbf{V}}\n",
    "\\newcommand{\\vv}{\\mathbf{v}}\n",
    "\\newcommand{\\tv}{\\mathbf{t}}\n",
    "\\newcommand{\\Tv}{\\mathbf{T}}\n",
    "\\newcommand{\\zv}{\\mathbf{z}}\n",
    "\\newcommand{\\Zv}{\\mathbf{Z}}\n",
    "\\newcommand{\\muv}{\\boldsymbol{\\mu}}\n",
    "\\newcommand{\\sigmav}{\\boldsymbol{\\sigma}}\n",
    "\\newcommand{\\phiv}{\\boldsymbol{\\phi}}\n",
    "\\newcommand{\\Phiv}{\\boldsymbol{\\Phi}}\n",
    "\\newcommand{\\Sigmav}{\\boldsymbol{\\Sigma}}\n",
    "\\newcommand{\\Lambdav}{\\boldsymbol{\\Lambda}}\n",
    "\\newcommand{\\half}{\\frac{1}{2}}\n",
    "\\newcommand{\\argmax}[1]{\\underset{#1}{\\operatorname{argmax}}}\n",
    "\\newcommand{\\argmin}[1]{\\underset{#1}{\\operatorname{argmin}}}\n",
    "\\newcommand{\\dimensionbar}[1]{\\underset{#1}{\\operatorname{|}}}\n",
    "$"
   ]
  },
  {
   "cell_type": "markdown",
   "metadata": {},
   "source": [
    "<font size=\"8\">**Optimizers2**</font> \n",
    "\n"
   ]
  },
  {
   "cell_type": "code",
   "execution_count": 2,
   "metadata": {
    "ExecuteTime": {
     "end_time": "2022-09-27T18:55:13.547190Z",
     "start_time": "2022-09-27T18:55:13.542106Z"
    }
   },
   "outputs": [
    {
     "name": "stdout",
     "output_type": "stream",
     "text": [
      "Writing optimizers2.py\n"
     ]
    }
   ],
   "source": [
    "%%writefile optimizers2.py\n",
    "\n",
    "import numpy as np\n",
    "import copy\n",
    "import math\n",
    "import sys  # for sys.float_info.epsilon\n",
    "\n",
    "######################################################################\n",
    "## class Optimizers()\n",
    "######################################################################\n",
    "\n",
    "class Optimizers():\n",
    "\n",
    "    def __init__(self, all_weights):\n",
    "        '''all_weights is a vector of all of a neural networks weights concatenated into a one-dimensional vector'''\n",
    "        \n",
    "        self.all_weights = all_weights\n",
    "        self.error_trace = []\n",
    "        self.best_val_error = None\n",
    "        self.best_epoch = None\n",
    "        self.best_weights = None "
   ]
  },
  {
   "cell_type": "markdown",
   "metadata": {},
   "source": [
    "## SGD\n",
    "<a id='sgd'></a>"
   ]
  },
  {
   "cell_type": "markdown",
   "metadata": {},
   "source": [
    "Now we define the first optimization algorithm, SGD.  We include the option of using [Nesterov accelerated gradient (NAG)](https://ruder.io/optimizing-gradient-descent/index.html#nesterovacceleratedgradient).  This link is a nice summary of many other optimizers, also."
   ]
  },
  {
   "cell_type": "code",
   "execution_count": 3,
   "metadata": {
    "ExecuteTime": {
     "end_time": "2022-09-27T18:55:13.557375Z",
     "start_time": "2022-09-27T18:55:13.548683Z"
    }
   },
   "outputs": [
    {
     "name": "stdout",
     "output_type": "stream",
     "text": [
      "Appending to optimizers2.py\n"
     ]
    }
   ],
   "source": [
    "%%writefile -a optimizers2.py\n",
    "\n",
    "    def sgd(self, Xtrain, Ttrain, Xval, Tval, error_f, gradient_f, n_epochs=100, learning_rate=0.001, momentum=0, \n",
    "            weight_penalty=0,\n",
    "            error_convert_f=None, error_convert_name='MSE', nesterov=False, verbose=True):\n",
    "        '''\n",
    "        Xtrain : two-dimensional numpy array \n",
    "            number of training samples  by  number of input components\n",
    "        Ttrain : two-dimensional numpy array\n",
    "            number of training samples  by  number of output components\n",
    "        Xvalidate : two-dimensional numpy array \n",
    "            number of validation samples  by  number of input components\n",
    "        Tvalidate : two-dimensional numpy array\n",
    "            number of validationg samples  by  number of output components\n",
    "        error_f: function that requires X and T as arguments (given in fargs) and returns mean squared error.\n",
    "        gradient_f: function that requires X and T as arguments (in fargs) and returns gradient of mean squared error\n",
    "                    with respect to each weight.\n",
    "        n_epochs : int\n",
    "            Number of passes to take through all samples\n",
    "        learning_rate : float\n",
    "            Controls the step size of each update, only for sgd and adam\n",
    "        momentum : float\n",
    "            Controls amount of previous weight update to add to current weight update, only for sgd\n",
    "        weight_penalty : float\n",
    "            Controls amount to penalize large magnitude weights\n",
    "        error_convert_f: function that converts the standardized error from error_f to original T units\n",
    "        error_convert_name: used when printing progress updates\n",
    "        nestoerov: momentum factor for Nesterov momentum. If False, then uses zero for no momentum\n",
    "        verbose: if True print progress occasionally\n",
    "        '''\n",
    "\n",
    "        if self.error_trace == []:\n",
    "            # not initialized yet\n",
    "            self.prev_update = 0\n",
    "            if nesterov:\n",
    "                self.all_weights_copy = np.zeros(self.all_weights.shape)\n",
    " \n",
    "        # learning_rate /= (Xtrain.shape[0] * Ttrain.shape[1])\n",
    "        \n",
    "        epochs_per_print = n_epochs // 10\n",
    "\n",
    "        for epoch in range(n_epochs):\n",
    "\n",
    "            # Assume to be standardized already\n",
    "            error = error_f(Xtrain, Ttrain) + weight_penalty * np.sum(self.all_weights ** 2)\n",
    "            grad = gradient_f(Xtrain, Ttrain) + weight_penalty * self.all_weights\n",
    "\n",
    "            val_error = error_f(Xval, Tval) + weight_penalty * np.sum(self.all_weights ** 2)\n",
    "\n",
    "            if not nesterov:\n",
    "                \n",
    "                self.prev_update = learning_rate * grad + momentum * self.prev_update\n",
    "                # Update all weights using -= to modify their values in-place.\n",
    "                self.all_weights -= self.prev_update\n",
    "\n",
    "            else:\n",
    "\n",
    "                self.all_weights_copy[:] = self.all_weights \n",
    "                self.all_weights -= momentum * self.prev_update\n",
    "                error = error_f(Xtrain, Ttrain)\n",
    "                grad = gradient_f(Xtrain, Ttrain)\n",
    "                self.prev_update = learning_rate * grad + momentum * self.prev_update\n",
    "                self.all_weights[:] = self.all_weights_copy\n",
    "                self.all_weights -= self.prev_update\n",
    "                \n",
    "\n",
    "            if error_convert_f:\n",
    "                error = error_convert_f(error)\n",
    "                val_error = error_convert_f(val_error)\n",
    "\n",
    "            self.error_trace.append([error, val_error])\n",
    "\n",
    "            if verbose and ((epoch + 1) % max(1, epochs_per_print) == 0):\n",
    "                print(f'SGD: Epoch {epoch + 1} {error_convert_name}={error:.5f},{val_error:.5f}')\n",
    "\n",
    "            if self.best_val_error is None or val_error < self.best_val_error:\n",
    "                self.best_val_error = val_error\n",
    "                self.best_epoch = epoch\n",
    "                self.best_weights = self.all_weights.copy()\n",
    "\n",
    "        self.all_weights[:] = self.best_weights\n",
    "\n",
    "        return self.error_trace"
   ]
  },
  {
   "cell_type": "markdown",
   "metadata": {},
   "source": [
    "## AdamW\n",
    "<a id='adamw'></a>"
   ]
  },
  {
   "cell_type": "markdown",
   "metadata": {},
   "source": [
    "Now we add the basic [Adaptive Moment Estimation (Adam)](https://ruder.io/optimizing-gradient-descent/index.html#adam).  "
   ]
  },
  {
   "cell_type": "code",
   "execution_count": 4,
   "metadata": {
    "ExecuteTime": {
     "end_time": "2022-09-27T18:55:13.567042Z",
     "start_time": "2022-09-27T18:55:13.558837Z"
    }
   },
   "outputs": [
    {
     "name": "stdout",
     "output_type": "stream",
     "text": [
      "Appending to optimizers2.py\n"
     ]
    }
   ],
   "source": [
    "%%writefile -a optimizers2.py\n",
    "\n",
    "    ######################################################################\n",
    "    #### adamw\n",
    "    ######################################################################\n",
    "\n",
    "    def adamw(self, Xtrain, Ttrain, Xval, Tval, error_f, gradient_f, n_epochs=100, learning_rate=0.001, weight_penalty=0,\n",
    "              error_convert_f=None, error_convert_name='MSE', verbose=True):\n",
    "        '''\n",
    "        Xtrain : two-dimensional numpy array \n",
    "            number of training samples  by  number of input components\n",
    "        Ttrain : two-dimensional numpy array\n",
    "            number of training samples  by  number of output components\n",
    "        Xvalidate : two-dimensional numpy array \n",
    "            number of validation samples  by  number of input components\n",
    "        Tvalidate : two-dimensional numpy array\n",
    "            number of validationg samples  by  number of output components\n",
    "        error_f: function that requires X and T as arguments (given in fargs) and returns mean squared error.\n",
    "        gradient_f: function that requires X and T as arguments (in fargs) and returns gradient of mean squared error\n",
    "                    with respect to each weight.\n",
    "        n_epochs : int\n",
    "            Number of passes to take through all samples\n",
    "        learning_rate : float\n",
    "            Controls the step size of each update, only for sgd and adam\n",
    "        weight_penalty : float\n",
    "            Controls amount to penalize large magnitude weights\n",
    "        error_convert_f: function that converts the standardized error from error_f to original T units\n",
    "        error_convert_name: used when printing progress updates\n",
    "        weight_penalty: if > 0, penalize large magnitude weights\n",
    "        verbose: if True print progress occasionally\n",
    "        '''\n",
    "\n",
    "        if self.error_trace == []:\n",
    "            shape = self.all_weights.shape\n",
    "            # with multiple subsets (batches) of training data.\n",
    "            self.mt = np.zeros(shape)\n",
    "            self.vt = np.zeros(shape)\n",
    "            self.sqrt = np.sqrt\n",
    "                \n",
    "            self.beta1 = 0.9\n",
    "            self.beta2 = 0.999\n",
    "            self.beta1t = 1\n",
    "            self.beta2t = 1\n",
    "\n",
    "        # learning_rate /= (Xtrain.shape[0] * Ttrain.shape[1])\n",
    "\n",
    "        alpha = learning_rate  # learning rate called alpha in original paper on adam\n",
    "        epsilon = 1e-8\n",
    "        epochs_per_print = n_epochs // 10\n",
    "\n",
    "        for epoch in range(n_epochs):\n",
    "\n",
    "            error = error_f(Xtrain, Ttrain) + weight_penalty * np.sum(self.all_weights ** 2)\n",
    "            grad = gradient_f(Xtrain, Ttrain) + weight_penalty * self.all_weights\n",
    "\n",
    "            val_error = error_f(Xval, Tval) + weight_penalty * np.sum(self.all_weights ** 2)\n",
    "\n",
    "            self.mt[:] = self.beta1 * self.mt + (1 - self.beta1) * grad\n",
    "            self.vt[:] = self.beta2 * self.vt + (1 - self.beta2) * grad * grad\n",
    "            self.beta1t *= self.beta1\n",
    "            self.beta2t *= self.beta2\n",
    "\n",
    "            m_hat = self.mt / (1 - self.beta1t)\n",
    "            v_hat = self.vt / (1 - self.beta2t)\n",
    "\n",
    "            # Update all weights using -= to modify their values in-place.\n",
    "            self.all_weights -= (alpha * m_hat / (self.sqrt(v_hat) + epsilon) + \n",
    "                                 weight_penalty * self.all_weights)\n",
    "    \n",
    "            if error_convert_f:\n",
    "                error = error_convert_f(error)\n",
    "                val_error = error_convert_f(val_error)\n",
    "\n",
    "            self.error_trace.append([error, val_error])\n",
    "\n",
    "            if verbose and ((epoch + 1) % max(1, epochs_per_print) == 0):\n",
    "                print(f'AdamW: Epoch {epoch + 1} {error_convert_name}={error:.5f},{val_error:.5f}')\n",
    "\n",
    "            if self.best_val_error is None or val_error < self.best_val_error:\n",
    "                self.best_val_error = val_error\n",
    "                self.best_epoch = epoch\n",
    "                self.best_weights = self.all_weights.copy()\n",
    "                \n",
    "        self.all_weights[:] = self.best_weights\n",
    "\n",
    "        return self.error_trace"
   ]
  },
  {
   "cell_type": "markdown",
   "metadata": {},
   "source": [
    "## SCG \n",
    "<a id='scg'></a>"
   ]
  },
  {
   "cell_type": "markdown",
   "metadata": {},
   "source": [
    "And now the Scaled Conjugate Gradient, scg, algorithm."
   ]
  },
  {
   "cell_type": "code",
   "execution_count": 5,
   "metadata": {
    "ExecuteTime": {
     "end_time": "2022-09-27T18:55:13.577329Z",
     "start_time": "2022-09-27T18:55:13.568417Z"
    }
   },
   "outputs": [
    {
     "name": "stdout",
     "output_type": "stream",
     "text": [
      "Appending to optimizers2.py\n"
     ]
    }
   ],
   "source": [
    "%%writefile -a optimizers2.py\n",
    "\n",
    "    ######################################################################\n",
    "    #### scg\n",
    "    ######################################################################\n",
    "\n",
    "    def scg(self, Xtrain, Ttrain, Xval, Tval, error_f, gradient_f, n_epochs=100, weight_penalty=0,\n",
    "            error_convert_f=None, error_convert_name='MSE', verbose=True):\n",
    "        '''\n",
    "        Xtrain : two-dimensional numpy array \n",
    "            number of training samples  by  number of input components\n",
    "        Ttrain : two-dimensional numpy array\n",
    "            number of training samples  by  number of output components\n",
    "        Xvalidate : two-dimensional numpy array \n",
    "            number of validation samples  by  number of input components\n",
    "        Tvalidate : two-dimensional numpy array\n",
    "            number of validationg samples  by  number of output components\n",
    "        error_f: function that requires X and T as arguments (given in fargs) and returns mean squared error.\n",
    "        gradient_f: function that requires X and T as arguments (in fargs) and returns gradient of mean squared error\n",
    "                    with respect to each weight.\n",
    "        n_epochs : int\n",
    "            Number of passes to take through all samples\n",
    "        weight_penalty : float\n",
    "            Controls amount to penalize large magnitude weights\n",
    "        error_convert_f: function that converts the standardized error from error_f to original T units\n",
    "        error_convert_name: used when printing progress updates\n",
    "        weight_penalty: if > 0, penalize large magnitude weights\n",
    "        verbose: if True print progress occasionally\n",
    "        '''\n",
    "\n",
    "        if self.error_trace == []:\n",
    "            shape = self.all_weights.shape\n",
    "            self.w_new = np.zeros(shape)\n",
    "            self.w_temp = np.zeros(shape)\n",
    "            self.g_new = np.zeros(shape)\n",
    "            self.g_old = np.zeros(shape)\n",
    "            self.g_smallstep = np.zeros(shape)\n",
    "            self.search_dir = np.zeros(shape)\n",
    "\n",
    "        sigma0 = 1.0e-6\n",
    "        val_fold = error_f(Xval, Tval) + weight_penalty * np.sum(self.all_weights ** 2)\n",
    "        fold = error_f(Xtrain, Ttrain) + weight_penalty * np.sum(self.all_weights ** 2)\n",
    "        error = fold\n",
    "        val_error = val_fold\n",
    "        self.g_new[:] = gradient_f(Xtrain, Ttrain) + weight_penalty * self.all_weights\n",
    "        self.g_old[:] = copy.deepcopy(self.g_new)\n",
    "        self.search_dir[:] = -self.g_new\n",
    "        success = True\t\t\t\t# Force calculation of directional derivs.\n",
    "        nsuccess = 0\t\t\t\t# nsuccess counts number of successes.\n",
    "        beta = 1.0e-6\t\t\t\t# Initial scale parameter. Lambda in Moeller.\n",
    "        betamin = 1.0e-15 \t\t\t# Lower bound on scale.\n",
    "        betamax = 1.0e20\t\t\t# Upper bound on scale.\n",
    "        nvars = len(self.all_weights)\n",
    "        epoch = 1\t\t\t\t# j counts number of epochs\n",
    "\n",
    "        # Main optimization loop.\n",
    "        while epoch <= n_epochs:\n",
    "\n",
    "            # Calculate first and second directional derivatives.\n",
    "            if success:\n",
    "                mu = self.search_dir @ self.g_new\n",
    "                if mu >= 0:\n",
    "                    self.search_dir[:] = - self.g_new\n",
    "                    mu = self.search_dir.T @ self.g_new\n",
    "                kappa = self.search_dir.T @ self.search_dir\n",
    "                if math.isnan(kappa):\n",
    "                    print('kappa', kappa)\n",
    "\n",
    "                if kappa < sys.float_info.epsilon:\n",
    "                    return self.error_trace\n",
    "\n",
    "                sigma = sigma0 / math.sqrt(kappa)\n",
    "\n",
    "                self.w_temp[:] = self.all_weights\n",
    "                self.all_weights += sigma * self.search_dir\n",
    "                error_f(Xtrain, Ttrain)  #  + weight_penalty * np.sum(self.all_weights ** 2)\n",
    "                self.g_smallstep[:] = gradient_f(Xtrain, Ttrain) + weight_penalty * self.all_weights\n",
    "                self.all_weights[:] = self.w_temp\n",
    "\n",
    "                theta = self.search_dir @ (self.g_smallstep - self.g_new) / sigma\n",
    "                if math.isnan(theta):\n",
    "                    print('theta', theta, 'sigma', sigma, 'search_dir[0]', self.search_dir[0], 'g_smallstep[0]', self.g_smallstep[0])\n",
    "\n",
    "            ## Increase effective curvature and evaluate step size alpha.\n",
    "\n",
    "            delta = theta + beta * kappa\n",
    "            # if math.isnan(scalarv(delta)):\n",
    "            if math.isnan(delta):\n",
    "                print('delta is NaN', 'theta', theta, 'beta', beta, 'kappa', kappa)\n",
    "            elif delta <= 0:\n",
    "                delta = beta * kappa\n",
    "                beta = beta - theta / kappa\n",
    "\n",
    "            if delta == 0:\n",
    "                success = False\n",
    "                fnow = fold\n",
    "                val_fnow = val_fold\n",
    "            else:\n",
    "                alpha = -mu / delta\n",
    "                ## Calculate the comparison ratio Delta\n",
    "                self.w_temp[:] = self.all_weights\n",
    "                self.all_weights += alpha * self.search_dir\n",
    "                val_fnew = error_f(Xval, Tval) + weight_penalty * np.sum(self.all_weights ** 2)\n",
    "                fnew = error_f(Xtrain, Ttrain) + weight_penalty * np.sum(self.all_weights ** 2)\n",
    "                Delta = 2 * (fnew - fold) / (alpha * mu)\n",
    "                if not math.isnan(Delta) and Delta  >= 0:\n",
    "                    success = True\n",
    "                    nsuccess += 1\n",
    "                    fnow = fnew\n",
    "                    val_fnow = val_fnew\n",
    "                else:\n",
    "                    success = False\n",
    "                    fnow = fold\n",
    "                    val_fnow = val_fold\n",
    "                    self.all_weights[:] = self.w_temp\n",
    "\n",
    "            epochsPerPrint = math.ceil(n_epochs/10)\n",
    "            if verbose and epoch % max(1, epochsPerPrint) == 0:\n",
    "                print(f'SCG: Epoch {epoch} {error_convert_name}={error:.5f},{val_error:.5f}')\n",
    "\n",
    "            if error_convert_f:\n",
    "                val_error = error_convert_f(val_fnow)\n",
    "                error = error_convert_f(fnow)\n",
    "            else:\n",
    "                error = fnow\n",
    "                val_error = val_fnow\n",
    "            self.error_trace.append([error, val_error])\n",
    "\n",
    "            if success:\n",
    "\n",
    "                fold = fnew\n",
    "                val_fold = val_fnew\n",
    "                self.g_old[:] = self.g_new\n",
    "                self.g_new[:] = gradient_f(Xtrain, Ttrain) + weight_penalty * self.all_weights\n",
    "\n",
    "                # If the gradient is zero then we are done.\n",
    "                gg = self.g_new @ self.g_new  # dot(gradnew, gradnew)\n",
    "                if gg == 0:\n",
    "                    return self.error_trace\n",
    "\n",
    "            if math.isnan(Delta) or Delta < 0.25:\n",
    "                beta = min(4.0 * beta, betamax)\n",
    "            elif Delta > 0.75:\n",
    "                beta = max(0.5 * beta, betamin)\n",
    "\n",
    "            # Update search direction using Polak-Ribiere formula, or re-start\n",
    "            # in direction of negative gradient after nparams steps.\n",
    "            if nsuccess == nvars:\n",
    "                self.search_dir[:] = -self.g_new\n",
    "                nsuccess = 0\n",
    "            elif success:\n",
    "                gamma = (self.g_old - self.g_new) @ (self.g_new / mu)\n",
    "                #self.search_dir[:] = gamma * self.search_dir - self.g_new\n",
    "                self.search_dir *= gamma\n",
    "                self.search_dir -= self.g_new\n",
    "\n",
    "            epoch += 1\n",
    "\n",
    "            # If we get here, then we haven't terminated in the given number of\n",
    "            # epochs.\n",
    "\n",
    "            if self.best_val_error is None or val_error < self.best_val_error:\n",
    "                self.best_val_error = val_error\n",
    "                self.best_epoch = epoch\n",
    "                self.best_weights = self.all_weights.copy()\n",
    "\n",
    "        self.all_weights[:] = self.best_weights\n",
    "\n",
    "        return self.error_trace"
   ]
  },
  {
   "cell_type": "markdown",
   "metadata": {},
   "source": [
    "# Demonstration of Training Weights for Neural Network with Single Hidden Layer"
   ]
  },
  {
   "cell_type": "code",
   "execution_count": 1,
   "metadata": {},
   "outputs": [],
   "source": [
    "import numpy as np\n",
    "import matplotlib.pyplot as plt\n",
    "import optimizers2 as opt"
   ]
  },
  {
   "cell_type": "code",
   "execution_count": 2,
   "metadata": {},
   "outputs": [],
   "source": [
    "######################################################################\n",
    "# Make date and partition randomly into training, validation, and testing\n",
    "\n",
    "Xtrain = np.arange(-2, 2, 0.05).reshape(-1, 1)\n",
    "Ttrain = np.sin(Xtrain) * np.sin(Xtrain * 5)\n",
    "    \n",
    "Xval = Xtrain * 1.1  # + 0.2\n",
    "Tval = Ttrain + 0.2 * Xtrain\n",
    "Xtest = Xtrain * 0.97\n",
    "Ttest = Ttrain + 0.15 * Xtrain # + np.random.uniform(-0.05, 0.05, Ttrain.shape) \n",
    "        \n",
    "n_samples, n_inputs = Xtrain.shape\n",
    "n_outputs = Ttrain.shape[1]"
   ]
  },
  {
   "cell_type": "code",
   "execution_count": 98,
   "metadata": {},
   "outputs": [
    {
     "data": {
      "text/plain": [
       "(array([[0. ],\n",
       "        [0.5],\n",
       "        [1. ],\n",
       "        [1.5]]),\n",
       " array([[ 0.        ],\n",
       "        [-0.45973279],\n",
       "        [-0.45777798],\n",
       "        [ 0.64865886]]))"
      ]
     },
     "execution_count": 98,
     "metadata": {},
     "output_type": "execute_result"
    }
   ],
   "source": [
    "X = np.arange(0, 2, 0.5).reshape(-1, 1)\n",
    "T = np.sin(X) * np.sin(X * 10)\n",
    "n_samples, n_inputs = X.shape\n",
    "n_outputs = 1\n",
    "\n",
    "X,T"
   ]
  },
  {
   "cell_type": "code",
   "execution_count": 4,
   "metadata": {},
   "outputs": [
    {
     "data": {
      "text/plain": [
       "(80, 1)"
      ]
     },
     "execution_count": 4,
     "metadata": {},
     "output_type": "execute_result"
    }
   ],
   "source": [
    "Ttrain.shape"
   ]
  },
  {
   "cell_type": "code",
   "execution_count": 99,
   "metadata": {},
   "outputs": [],
   "source": [
    "######################################################################\n",
    "# Make weight and gradient one-dimensional vectors and matrix views\n",
    "# Neural net has only one hidden layer.\n",
    "# first Layer\n",
    "\n",
    "n_hiddens_1 = 2\n",
    "n_hiddens_2 = 2\n",
    "\n",
    "# Weight vector and matrix views\n",
    "    \n",
    "V0shape = (1 + n_inputs, n_hiddens_1)\n",
    "V1shape = (1+n_hiddens_1, n_hiddens_2)\n",
    "Wshape = (1 + n_hiddens_2, n_outputs)\n",
    "\n",
    "n_V0 = np.prod(V0shape)\n",
    "n_V1 = np.prod(V1shape)\n",
    "n_W = np.prod(Wshape)\n",
    "n_weights = n_V0 +n_V1 + n_W\n",
    "all_weights = np.random.uniform(-1, 1, n_weights)\n",
    "V0 = all_weights[:n_V0].reshape(V0shape)\n",
    "V0 /= np.sqrt(V0shape[0])\n",
    "V1 = all_weights[n_V0:n_V1+n_V0].reshape(V1shape)\n",
    "V1 /= np.sqrt(V1shape[0])\n",
    "W = all_weights[n_V1+n_V0:].reshape(Wshape)\n",
    "W /= np.sqrt(Wshape[0])\n",
    "Ws = [V0, V1, W]\n",
    "\n",
    "# Gradient vector and matrix views\n",
    "\n",
    "all_gradients = np.zeros_like(all_weights)\n",
    "grad_V0 = all_gradients[:n_V0].reshape(V0shape)\n",
    "grad_V1 = all_gradients[n_V0:n_V1+n_V0].reshape(V1shape)\n",
    "grad_W = all_gradients[n_V1+n_V0:].reshape(Wshape) \n",
    "\n",
    "grads = [grad_V0, grad_V1, grad_W]"
   ]
  },
  {
   "cell_type": "code",
   "execution_count": 100,
   "metadata": {},
   "outputs": [
    {
     "data": {
      "text/plain": [
       "(13,)"
      ]
     },
     "execution_count": 100,
     "metadata": {},
     "output_type": "execute_result"
    }
   ],
   "source": [
    "all_weights.shape"
   ]
  },
  {
   "cell_type": "code",
   "execution_count": 35,
   "metadata": {},
   "outputs": [
    {
     "data": {
      "text/plain": [
       "((2, 2), (3, 2), (3, 1))"
      ]
     },
     "execution_count": 35,
     "metadata": {},
     "output_type": "execute_result"
    }
   ],
   "source": [
    "V0.shape, V1.shape, W.shape"
   ]
  },
  {
   "cell_type": "code",
   "execution_count": 47,
   "metadata": {},
   "outputs": [
    {
     "data": {
      "text/plain": [
       "((2, 2), (3, 2), (3, 1))"
      ]
     },
     "execution_count": 47,
     "metadata": {},
     "output_type": "execute_result"
    }
   ],
   "source": [
    "V0shape, V1shape, Wshape"
   ]
  },
  {
   "cell_type": "code",
   "execution_count": 37,
   "metadata": {},
   "outputs": [
    {
     "data": {
      "text/plain": [
       "(13,)"
      ]
     },
     "execution_count": 37,
     "metadata": {},
     "output_type": "execute_result"
    }
   ],
   "source": [
    "all_gradients.shape"
   ]
  },
  {
   "cell_type": "code",
   "execution_count": 48,
   "metadata": {},
   "outputs": [
    {
     "data": {
      "text/plain": [
       "(13,)"
      ]
     },
     "execution_count": 48,
     "metadata": {},
     "output_type": "execute_result"
    }
   ],
   "source": [
    "all_weights.shape"
   ]
  },
  {
   "cell_type": "code",
   "execution_count": 39,
   "metadata": {},
   "outputs": [
    {
     "data": {
      "text/plain": [
       "(3, 1)"
      ]
     },
     "execution_count": 39,
     "metadata": {},
     "output_type": "execute_result"
    }
   ],
   "source": [
    "grad_W.shape"
   ]
  },
  {
   "cell_type": "code",
   "execution_count": 119,
   "metadata": {},
   "outputs": [],
   "source": [
    "######################################################################\n",
    "# Neural network functions\n",
    "    \n",
    "def rmse_unstandardized(T, Y, Tstds):\n",
    "    return np.sqrt(np.mean((T - Y)**2, axis=0))[0]\n",
    "\n",
    "def add_ones(A):\n",
    "    return np.insert(A, 0, 1, axis=1)\n",
    "\n",
    "# Function to be minimized by optimizer method, mean squared error\n",
    "def error_f(X, T):\n",
    "    global Zs, Z0, Z1, Y\n",
    "    # forward pass\n",
    "    Z0 = np.tanh(add_ones(X) @ V0)\n",
    "    Z1 = np.tanh(add_ones(Z0) @ V1)\n",
    "    Y = add_ones(Z1) @ W\n",
    "    mean_sq_error = np.mean((T - Y) ** 2)\n",
    "    \n",
    "    Zs = [X,Z0, Z1, Y]     \n",
    "    print(Z0, Z1, Y)\n",
    "#     for i in range(len(self.Ws) -1):\n",
    "#         z = np.tanh(add_ones(self.Zs[i]) @ self.Ws[i])\n",
    "#         self.Zs.append(z)\n",
    "\n",
    "#     Y = add_ones(Zs[-1]) @ Ws[-1]\n",
    "#     Zs.append(Y)\n",
    "    return mean_sq_error\n",
    "\n",
    "# Gradient of function to be minimized for use by optimizer method\n",
    "def gradient_f(X, T):\n",
    "    global Zs, Z0, Z1, Y, grad_W, grad_V0, grad_V1, all_gradients   # remove ones that aren't changed in this function\n",
    "    n_samples = X.shape[0]\n",
    "    n_outputs = T.shape[1]\n",
    "    Dw = -(T - Y) / (n_samples * n_outputs)\n",
    "    grad_W[:] = add_ones(Z1).T @ Dw\n",
    "    \n",
    "    Dv1 = Dw @ W[1:, :].T * (1 - Z1**2)\n",
    "    grad_V1[:] = add_ones(Z0).T @ Dv1\n",
    "\n",
    "    Dv0 = Dv1 @ V1[1:, :].T * (1 - Z0**2)\n",
    "    grad_V0[:] = add_ones(X).T @ Dv0\n",
    "\n",
    "    return all_gradients\n",
    "\n",
    "# Apply network to data X\n",
    "def use(X):\n",
    "    X = (X - Xmeans) / Xstds\n",
    "    Z = np.tanh(add_ones(X) @ V0)\n",
    "    Z = np.tanh(add_ones(Z) @ V1)\n",
    "    Y = add_ones(Z) @ W\n",
    "    return Y * Tstds + Tmeans"
   ]
  },
  {
   "cell_type": "code",
   "execution_count": 102,
   "metadata": {},
   "outputs": [],
   "source": [
    "Xtrain = X\n",
    "Ttrain = T\n",
    "Xval = X\n",
    "Tval = T"
   ]
  },
  {
   "cell_type": "code",
   "execution_count": 103,
   "metadata": {},
   "outputs": [],
   "source": [
    "######################################################################\n",
    "# Standardize data\n",
    "    \n",
    "Xmeans = Xtrain.mean(axis=0)\n",
    "Xstds = Xtrain.std(axis=0)\n",
    "Tmeans = Ttrain.mean(axis=0)\n",
    "Tstds = Ttrain.std(axis=0)\n",
    "\n",
    "XtrainS = (Xtrain - Xmeans) / Xstds\n",
    "TtrainS = (Ttrain - Tmeans) / Tstds\n",
    "XvalS = (Xval - Xmeans) / Xstds\n",
    "TvalS = (Tval - Tmeans) / Tstds\n",
    "# XtestS = (Xtest - Xmeans) / Xstds\n",
    "# TtestS = (Ttest - Tmeans) / Tstds"
   ]
  },
  {
   "cell_type": "code",
   "execution_count": 120,
   "metadata": {},
   "outputs": [],
   "source": [
    "all_weights[:] = np.arange(len(all_weights)) * 0.001"
   ]
  },
  {
   "cell_type": "code",
   "execution_count": 105,
   "metadata": {},
   "outputs": [
    {
     "data": {
      "text/plain": [
       "(array([0.   , 0.001, 0.002, 0.003, 0.004, 0.005, 0.006, 0.007, 0.008,\n",
       "        0.009, 0.01 , 0.011, 0.012]),\n",
       " [array([[0.   , 0.001],\n",
       "         [0.002, 0.003]]),\n",
       "  array([[0.004, 0.005],\n",
       "         [0.006, 0.007],\n",
       "         [0.008, 0.009]]),\n",
       "  array([[0.01 ],\n",
       "         [0.011],\n",
       "         [0.012]])])"
      ]
     },
     "execution_count": 105,
     "metadata": {},
     "output_type": "execute_result"
    }
   ],
   "source": [
    "all_weights, Ws"
   ]
  },
  {
   "cell_type": "code",
   "execution_count": 121,
   "metadata": {},
   "outputs": [
    {
     "name": "stdout",
     "output_type": "stream",
     "text": [
      "[[-0.00268328 -0.00302491]\n",
      " [-0.00089443 -0.00034164]\n",
      " [ 0.00089443  0.00234164]\n",
      " [ 0.00268328  0.00502488]] [[0.00395968 0.00495395]\n",
      " [0.00399188 0.00499062]\n",
      " [0.00402408 0.00502729]\n",
      " [0.00405628 0.00506396]] [[0.010103  ]\n",
      " [0.0101038 ]\n",
      " [0.01010459]\n",
      " [0.01010539]]\n",
      "[[-0.00268328 -0.00302491]\n",
      " [-0.00089443 -0.00034164]\n",
      " [ 0.00089443  0.00234164]\n",
      " [ 0.00268328  0.00502488]] [[0.00395968 0.00495395]\n",
      " [0.00399188 0.00499062]\n",
      " [0.00402408 0.00502729]\n",
      " [0.00405628 0.00506396]] [[0.010103  ]\n",
      " [0.0101038 ]\n",
      " [0.01010459]\n",
      " [0.01010539]]\n",
      "SGD: Epoch 1 MSE=1.00010,1.00010\n"
     ]
    }
   ],
   "source": [
    "######################################################################\n",
    "# Ready to train!\n",
    "    \n",
    "optimizer = opt.Optimizers(all_weights)\n",
    "    \n",
    "method = 'sgd'\n",
    "\n",
    "if method == 'sgd':\n",
    "      \n",
    "    n_epochs = 1\n",
    "    learning_rate = 0.1\n",
    "    momentum = 0.\n",
    "    weight_penalty = 0\n",
    "    error_trace = optimizer.sgd(XtrainS, TtrainS, XvalS, TvalS, error_f, gradient_f,\n",
    "                                n_epochs=n_epochs, learning_rate=learning_rate,\n",
    "                                momentum=momentum, weight_penalty=weight_penalty,\n",
    "                                verbose=True)\n",
    "        \n",
    "elif method == 'adamw':\n",
    "\n",
    "    n_epochs = 10000\n",
    "    learning_rate = 0.005\n",
    "    weight_penalty = 0\n",
    "    error_trace = optimizer.adamw(XtrainS, TtrainS, XvalS, TvalS, error_f, gradient_f,\n",
    "                                  n_epochs=n_epochs, learning_rate=learning_rate,\n",
    "                                  weight_penalty=weight_penalty,\n",
    "                                  verbose=True)\n",
    "\n",
    "elif method == 'scg':\n",
    "\n",
    "    n_epochs = 2000\n",
    "    weight_penalty = 0.0\n",
    "    error_trace = optimizer.scg(XtrainS, TtrainS, XvalS, TvalS, error_f, gradient_f,\n",
    "                                n_epochs=n_epochs, \n",
    "                                weight_penalty=weight_penalty,\n",
    "                                verbose=True) \n",
    "    \n",
    "else:\n",
    "    print('method must be \\'sgd\\', \\'adamw\\' or \\'scg\\' ')"
   ]
  },
  {
   "cell_type": "code",
   "execution_count": 118,
   "metadata": {},
   "outputs": [
    {
     "data": {
      "text/plain": [
       "(array([[-0.00269309, -0.00303773],\n",
       "        [-0.0008978 , -0.00034605],\n",
       "        [ 0.00089749,  0.00234565],\n",
       "        [ 0.00269278,  0.0050373 ]]),\n",
       " array([[0.0039484 , 0.00494164],\n",
       "        [0.00398071, 0.00497843],\n",
       "        [0.00401302, 0.00501523],\n",
       "        [0.00404533, 0.00505203]]),\n",
       " array([[0.00909229],\n",
       "        [0.00909308],\n",
       "        [0.00909388],\n",
       "        [0.00909468]]))"
      ]
     },
     "execution_count": 118,
     "metadata": {},
     "output_type": "execute_result"
    }
   ],
   "source": [
    "Z0, Z1, Y"
   ]
  },
  {
   "cell_type": "code",
   "execution_count": 110,
   "metadata": {},
   "outputs": [
    {
     "data": {
      "text/plain": [
       "array([[0.        , 0.001     ],\n",
       "       [0.001     , 0.00249999],\n",
       "       [0.002     , 0.00399998],\n",
       "       [0.00299999, 0.00549994]])"
      ]
     },
     "execution_count": 110,
     "metadata": {},
     "output_type": "execute_result"
    }
   ],
   "source": [
    "np.tanh(add_ones(X) @ V0)"
   ]
  },
  {
   "cell_type": "code",
   "execution_count": 111,
   "metadata": {},
   "outputs": [
    {
     "data": {
      "text/plain": [
       "[array([[-1.34164079],\n",
       "        [-0.4472136 ],\n",
       "        [ 0.4472136 ],\n",
       "        [ 1.34164079]]),\n",
       " array([[-0.00268328, -0.00302491],\n",
       "        [-0.00089443, -0.00034164],\n",
       "        [ 0.00089443,  0.00234164],\n",
       "        [ 0.00268328,  0.00502488]]),\n",
       " array([[0.00395968, 0.00495395],\n",
       "        [0.00399188, 0.00499062],\n",
       "        [0.00402408, 0.00502729],\n",
       "        [0.00405628, 0.00506396]]),\n",
       " array([[0.010103  ],\n",
       "        [0.0101038 ],\n",
       "        [0.01010459],\n",
       "        [0.01010539]])]"
      ]
     },
     "execution_count": 111,
     "metadata": {},
     "output_type": "execute_result"
    }
   ],
   "source": [
    "Zs"
   ]
  },
  {
   "cell_type": "code",
   "execution_count": 81,
   "metadata": {},
   "outputs": [
    {
     "data": {
      "text/plain": [
       "(array([[ 1.51603124e-06,  1.98217653e-06],\n",
       "        [-7.19909102e-05, -9.40663907e-05]]),\n",
       " array([[ 1.11145896e-04,  1.21249680e-04],\n",
       "        [-1.05587719e-05, -1.15185542e-05],\n",
       "        [-1.57268813e-05, -1.71564392e-05]]),\n",
       " array([[1.01041953e-02],\n",
       "        [2.32194989e-05],\n",
       "        [3.09340617e-05]]))"
      ]
     },
     "execution_count": 81,
     "metadata": {},
     "output_type": "execute_result"
    }
   ],
   "source": [
    "grad_V0, grad_V1, grad_W"
   ]
  },
  {
   "cell_type": "code",
   "execution_count": 79,
   "metadata": {},
   "outputs": [
    {
     "data": {
      "text/plain": [
       "[array([[ 1.51603124e-06,  1.98217653e-06],\n",
       "        [-7.19909102e-05, -9.40663907e-05]]),\n",
       " array([[ 1.11145896e-04,  1.21249680e-04],\n",
       "        [-1.05587719e-05, -1.15185542e-05],\n",
       "        [-1.57268813e-05, -1.71564392e-05]]),\n",
       " array([[1.01041953e-02],\n",
       "        [2.32194989e-05],\n",
       "        [3.09340617e-05]])]"
      ]
     },
     "execution_count": 79,
     "metadata": {},
     "output_type": "execute_result"
    }
   ],
   "source": [
    "grads"
   ]
  },
  {
   "cell_type": "code",
   "execution_count": 93,
   "metadata": {},
   "outputs": [
    {
     "data": {
      "text/plain": [
       "(array([[-1.51603124e-07,  9.99801782e-04],\n",
       "        [ 2.00719909e-03,  3.00940664e-03]]),\n",
       " array([[0.00398889, 0.00498788],\n",
       "        [0.00600106, 0.00700115],\n",
       "        [0.00800157, 0.00900172]]),\n",
       " array([[0.00898958],\n",
       "        [0.01099768],\n",
       "        [0.01199691]]))"
      ]
     },
     "execution_count": 93,
     "metadata": {},
     "output_type": "execute_result"
    }
   ],
   "source": [
    "V0, V1, W"
   ]
  },
  {
   "cell_type": "code",
   "execution_count": 96,
   "metadata": {},
   "outputs": [
    {
     "data": {
      "text/plain": [
       "array([[0.00909256],\n",
       "       [0.00909335],\n",
       "       [0.00909415],\n",
       "       [0.00909494]])"
      ]
     },
     "execution_count": 96,
     "metadata": {},
     "output_type": "execute_result"
    }
   ],
   "source": [
    "add_ones(Z1) @ W"
   ]
  },
  {
   "cell_type": "code",
   "execution_count": 97,
   "metadata": {},
   "outputs": [
    {
     "data": {
      "text/plain": [
       "array([[ 0.        ],\n",
       "       [-0.45973279],\n",
       "       [-0.45777798],\n",
       "       [ 0.64865886]])"
      ]
     },
     "execution_count": 97,
     "metadata": {},
     "output_type": "execute_result"
    }
   ],
   "source": [
    "T"
   ]
  },
  {
   "cell_type": "code",
   "execution_count": 14,
   "metadata": {},
   "outputs": [
    {
     "data": {
      "image/png": "[encoded data removed]",
      "text/plain": [
       "<Figure size 432x288 with 2 Axes>"
      ]
     },
     "metadata": {
      "needs_background": "light"
     },
     "output_type": "display_data"
    }
   ],
   "source": [
    "plt.subplot(2, 1, 1)\n",
    "plt.plot(error_trace)\n",
    "plt.axvline(optimizer.best_epoch, ymin=0, ymax=1, color='black', lw=4, alpha=0.2)\n",
    "\n",
    "plt.subplot(2, 1, 2)\n",
    "plt.plot(Xtrain, Ttrain, 'b.', label='Ttrain')\n",
    "plt.plot(Xtrain, use(Xtrain), 'b-', label='Ytrain')\n",
    "\n",
    "plt.plot(Xval, Tval, 'r.', label='Tval')\n",
    "plt.plot(Xtest, Ttest, 'c.', label='Ttest')\n",
    "plt.legend()\n",
    "\n",
    "title = f'{method}: RMSE Train {rmse_unstandardized(Ttrain, use(Xtrain), Tstds):.2f}'\n",
    "title += f' Val {rmse_unstandardized(Tval, use(Xval), Tstds):.2f}'\n",
    "title += f' Test {rmse_unstandardized(Ttest, use(Xtest), Tstds):.2f}'\n",
    "plt.title(title)\n",
    "plt.tight_layout();"
   ]
  },
  {
   "cell_type": "code",
   "execution_count": null,
   "metadata": {},
   "outputs": [],
   "source": []
  }
 ],
 "metadata": {
  "anaconda-cloud": {},
  "kernelspec": {
   "display_name": "Python 3",
   "language": "python",
   "name": "python3"
  },
  "language_info": {
   "codemirror_mode": {
    "name": "ipython",
    "version": 3
   },
   "file_extension": ".py",
   "mimetype": "text/x-python",
   "name": "python",
   "nbconvert_exporter": "python",
   "pygments_lexer": "ipython3",
   "version": "3.8.3"
  },
  "toc": {
   "base_numbering": 1,
   "nav_menu": {},
   "number_sections": true,
   "sideBar": true,
   "skip_h1_title": false,
   "title_cell": "Table of Contents",
   "title_sidebar": "Contents",
   "toc_cell": true,
   "toc_position": {},
   "toc_section_display": true,
   "toc_window_display": false
  }
 },
 "nbformat": 4,
 "nbformat_minor": 4
}
