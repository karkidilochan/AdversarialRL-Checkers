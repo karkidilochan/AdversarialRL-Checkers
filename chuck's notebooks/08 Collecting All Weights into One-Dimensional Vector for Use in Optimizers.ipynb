{
 "cells": [
  {
   "cell_type": "markdown",
   "metadata": {},
   "source": [
    "# Collecting All Weights Into a Vector"
   ]
  },
  {
   "cell_type": "markdown",
   "metadata": {},
   "source": [
    "## Creating the Weight Vector"
   ]
  },
  {
   "cell_type": "code",
   "execution_count": 1,
   "metadata": {},
   "outputs": [
    {
     "ename": "ModuleNotFoundError",
     "evalue": "No module named 'topic_banner'",
     "output_type": "error",
     "traceback": [
      "\u001b[1;31m---------------------------------------------------------------------------\u001b[0m",
      "\u001b[1;31mModuleNotFoundError\u001b[0m                       Traceback (most recent call last)",
      "\u001b[1;32m<ipython-input-1-007eda944251>\u001b[0m in \u001b[0;36m<module>\u001b[1;34m\u001b[0m\n\u001b[1;32m----> 1\u001b[1;33m \u001b[1;32mfrom\u001b[0m \u001b[0mtopic_banner\u001b[0m \u001b[1;32mimport\u001b[0m \u001b[0mnew_topic\u001b[0m\u001b[1;33m\u001b[0m\u001b[1;33m\u001b[0m\u001b[0m\n\u001b[0m\u001b[0;32m      2\u001b[0m \u001b[0mnew_topic\u001b[0m\u001b[1;33m(\u001b[0m\u001b[1;34m'Creating the Weight Vector'\u001b[0m\u001b[1;33m)\u001b[0m\u001b[1;33m\u001b[0m\u001b[1;33m\u001b[0m\u001b[0m\n",
      "\u001b[1;31mModuleNotFoundError\u001b[0m: No module named 'topic_banner'"
     ]
    }
   ],
   "source": [
    "from topic_banner import new_topic\n",
    "new_topic('Creating the Weight Vector')"
   ]
  },
  {
   "cell_type": "markdown",
   "metadata": {},
   "source": [
    "To use general-purpose optimization functions, like the SGD, AdamW, and SCG functions discussed last time, we must create a vector (one-dimensional) containing all of the weights in our network.  This vector will be passed as an argument to optimization functions as the parameters to be modified.\n",
    "\n",
    "Can we just convert our list of weight matrices (`self.Ws`) into a list of flattened matrices?  Let's try that."
   ]
  },
  {
   "cell_type": "code",
   "execution_count": 3,
   "metadata": {
    "ExecuteTime": {
     "end_time": "2022-09-20T18:29:51.908252Z",
     "start_time": "2022-09-20T18:29:51.749656Z"
    }
   },
   "outputs": [],
   "source": [
    "import numpy as np"
   ]
  },
  {
   "cell_type": "markdown",
   "metadata": {},
   "source": [
    "Imagine we have a network with 4 inputs, 2 units in a single hidden layer, and 10 units in the output layer.  We would instantiate this with\n",
    "\n",
    "        nnet = NeuralNetwork(4, [2], 10)\n",
    "\n",
    "This network will contain two weight matrices of shapes $5 \\times 2$ and $3 \\times 10$, right?"
   ]
  },
  {
   "cell_type": "code",
   "execution_count": 4,
   "metadata": {
    "ExecuteTime": {
     "end_time": "2022-09-20T18:29:51.911887Z",
     "start_time": "2022-09-20T18:29:51.909854Z"
    }
   },
   "outputs": [],
   "source": [
    "W1shape = (5, 2)\n",
    "W2shape = (3, 10)"
   ]
  },
  {
   "cell_type": "code",
   "execution_count": 5,
   "metadata": {},
   "outputs": [
    {
     "data": {
      "text/plain": [
       "(10, 30)"
      ]
     },
     "execution_count": 5,
     "metadata": {},
     "output_type": "execute_result"
    }
   ],
   "source": [
    "n_weights_W1 = np.prod(W1shape)\n",
    "n_weights_W2 = np.prod(W2shape)\n",
    "n_weights_W1, n_weights_W2"
   ]
  },
  {
   "cell_type": "code",
   "execution_count": 6,
   "metadata": {
    "ExecuteTime": {
     "end_time": "2022-09-20T18:29:51.922008Z",
     "start_time": "2022-09-20T18:29:51.912989Z"
    }
   },
   "outputs": [],
   "source": [
    "W1 = np.arange(0, n_weights_W1).reshape(W1shape)\n",
    "W2 = (-np.arange(0, n_weights_W2)).reshape(W2shape)"
   ]
  },
  {
   "cell_type": "code",
   "execution_count": 7,
   "metadata": {
    "ExecuteTime": {
     "end_time": "2022-09-20T18:29:51.935173Z",
     "start_time": "2022-09-20T18:29:51.923730Z"
    }
   },
   "outputs": [
    {
     "data": {
      "text/plain": [
       "(array([[0, 1],\n",
       "        [2, 3],\n",
       "        [4, 5],\n",
       "        [6, 7],\n",
       "        [8, 9]]),\n",
       " array([[  0,  -1,  -2,  -3,  -4,  -5,  -6,  -7,  -8,  -9],\n",
       "        [-10, -11, -12, -13, -14, -15, -16, -17, -18, -19],\n",
       "        [-20, -21, -22, -23, -24, -25, -26, -27, -28, -29]]))"
      ]
     },
     "execution_count": 7,
     "metadata": {},
     "output_type": "execute_result"
    }
   ],
   "source": [
    "W1, W2"
   ]
  },
  {
   "cell_type": "markdown",
   "metadata": {},
   "source": [
    "There are several ways to \"flatten\" a numpy array."
   ]
  },
  {
   "cell_type": "code",
   "execution_count": 8,
   "metadata": {
    "ExecuteTime": {
     "end_time": "2022-09-20T18:29:51.945283Z",
     "start_time": "2022-09-20T18:29:51.936283Z"
    }
   },
   "outputs": [
    {
     "data": {
      "text/plain": [
       "array([0, 1, 2, 3, 4, 5, 6, 7, 8, 9])"
      ]
     },
     "execution_count": 8,
     "metadata": {},
     "output_type": "execute_result"
    }
   ],
   "source": [
    "W1.flatten()"
   ]
  },
  {
   "cell_type": "code",
   "execution_count": 9,
   "metadata": {},
   "outputs": [
    {
     "data": {
      "text/plain": [
       "array([0, 1, 2, 3, 4, 5, 6, 7, 8, 9])"
      ]
     },
     "execution_count": 9,
     "metadata": {},
     "output_type": "execute_result"
    }
   ],
   "source": [
    "W1.ravel()"
   ]
  },
  {
   "cell_type": "code",
   "execution_count": 10,
   "metadata": {},
   "outputs": [
    {
     "data": {
      "text/plain": [
       "array([0, 1, 2, 3, 4, 5, 6, 7, 8, 9])"
      ]
     },
     "execution_count": 10,
     "metadata": {},
     "output_type": "execute_result"
    }
   ],
   "source": [
    "W1.reshape(-1)"
   ]
  },
  {
   "cell_type": "markdown",
   "metadata": {},
   "source": [
    "Let's use `flatten`, the method with the most understandable name.  We can collect these into a one-dimensional vector using `np.hstack`."
   ]
  },
  {
   "cell_type": "code",
   "execution_count": 11,
   "metadata": {
    "ExecuteTime": {
     "end_time": "2022-09-20T18:29:51.955156Z",
     "start_time": "2022-09-20T18:29:51.946367Z"
    }
   },
   "outputs": [
    {
     "data": {
      "text/plain": [
       "array([  0,   1,   2,   3,   4,   5,   6,   7,   8,   9,   0,  -1,  -2,\n",
       "        -3,  -4,  -5,  -6,  -7,  -8,  -9, -10, -11, -12, -13, -14, -15,\n",
       "       -16, -17, -18, -19, -20, -21, -22, -23, -24, -25, -26, -27, -28,\n",
       "       -29])"
      ]
     },
     "execution_count": 11,
     "metadata": {},
     "output_type": "execute_result"
    }
   ],
   "source": [
    "all_weights = np.hstack((W1.flatten(), W2.flatten()))\n",
    "all_weights"
   ]
  },
  {
   "cell_type": "markdown",
   "metadata": {},
   "source": [
    "When our optimization function updates these values, we want to check that our original weight matrices `W1` and `W2` are also modified.  This is because our `_forward` and `_gradient` functions will still be using `W1` and `W2`, that are stored in our `self.Ws` list."
   ]
  },
  {
   "cell_type": "code",
   "execution_count": 12,
   "metadata": {},
   "outputs": [
    {
     "data": {
      "text/plain": [
       "array([9999,    1,    2,    3,    4,    5,    6,    7,    8,    9,    0,\n",
       "         -1,   -2,   -3,   -4,   -5,   -6,   -7,   -8,   -9,  -10,  -11,\n",
       "        -12,  -13,  -14,  -15,  -16,  -17,  -18,  -19,  -20,  -21,  -22,\n",
       "        -23,  -24,  -25,  -26,  -27,  -28,  -29])"
      ]
     },
     "execution_count": 12,
     "metadata": {},
     "output_type": "execute_result"
    }
   ],
   "source": [
    "all_weights[0] = 9999\n",
    "all_weights"
   ]
  },
  {
   "cell_type": "code",
   "execution_count": 13,
   "metadata": {},
   "outputs": [
    {
     "data": {
      "text/plain": [
       "(array([[0, 1],\n",
       "        [2, 3],\n",
       "        [4, 5],\n",
       "        [6, 7],\n",
       "        [8, 9]]),\n",
       " array([[  0,  -1,  -2,  -3,  -4,  -5,  -6,  -7,  -8,  -9],\n",
       "        [-10, -11, -12, -13, -14, -15, -16, -17, -18, -19],\n",
       "        [-20, -21, -22, -23, -24, -25, -26, -27, -28, -29]]))"
      ]
     },
     "execution_count": 13,
     "metadata": {},
     "output_type": "execute_result"
    }
   ],
   "source": [
    "W1, W2"
   ]
  },
  {
   "cell_type": "markdown",
   "metadata": {},
   "source": [
    "Rats!  The memory location for the vector `all_weights` is not the same memory location as `W1` and `W2`.\n",
    "\n",
    "This is because the `np.hstack` function returns a `numpy` array, which allocates contiguous memory locations for all elements. `W1` and `W2` are not in contiguous memory locations, so `np.hstack` returns a `numpy` array not in the same memory locations as `W1` and `W2`."
   ]
  },
  {
   "cell_type": "markdown",
   "metadata": {},
   "source": [
    "What to do, what to do......"
   ]
  },
  {
   "cell_type": "markdown",
   "metadata": {},
   "source": [
    "## Create Weight Vector and All Weight Matrices Be in Same Memory Locations"
   ]
  },
  {
   "cell_type": "code",
   "execution_count": 14,
   "metadata": {},
   "outputs": [
    {
     "ename": "NameError",
     "evalue": "name 'new_topic' is not defined",
     "output_type": "error",
     "traceback": [
      "\u001b[1;31m---------------------------------------------------------------------------\u001b[0m",
      "\u001b[1;31mNameError\u001b[0m                                 Traceback (most recent call last)",
      "\u001b[1;32m<ipython-input-14-c8493cdb98a8>\u001b[0m in \u001b[0;36m<module>\u001b[1;34m\u001b[0m\n\u001b[1;32m----> 1\u001b[1;33m \u001b[0mnew_topic\u001b[0m\u001b[1;33m(\u001b[0m\u001b[1;34m'Create Weight Vector and All Weight Matrices Be in Same Memory Locations'\u001b[0m\u001b[1;33m)\u001b[0m\u001b[1;33m\u001b[0m\u001b[1;33m\u001b[0m\u001b[0m\n\u001b[0m",
      "\u001b[1;31mNameError\u001b[0m: name 'new_topic' is not defined"
     ]
    }
   ],
   "source": [
    "new_topic('Create Weight Vector and All Weight Matrices Be in Same Memory Locations')"
   ]
  },
  {
   "cell_type": "markdown",
   "metadata": {},
   "source": [
    "Maybe we can allocate `all_weights` first, then assign `W1` and `W2` to refer to memory locations within `all_weights`.  We can do this indexing into `all_weights` starting at the correct index and extending for as many weights as are in `W1` and `W2`."
   ]
  },
  {
   "cell_type": "code",
   "execution_count": 15,
   "metadata": {},
   "outputs": [
    {
     "data": {
      "text/plain": [
       "(array([9999,    1,    2,    3,    4,    5,    6,    7,    8,    9]),\n",
       " array([  0,  -1,  -2,  -3,  -4,  -5,  -6,  -7,  -8,  -9, -10, -11, -12,\n",
       "        -13, -14, -15, -16, -17, -18, -19, -20, -21, -22, -23, -24, -25,\n",
       "        -26, -27, -28, -29]))"
      ]
     },
     "execution_count": 15,
     "metadata": {},
     "output_type": "execute_result"
    }
   ],
   "source": [
    "W1 = all_weights[0:n_weights_W1]\n",
    "W2 = all_weights[n_weights_W1:n_weights_W1 + n_weights_W2]\n",
    "W1, W2"
   ]
  },
  {
   "cell_type": "markdown",
   "metadata": {},
   "source": [
    "Now, hopefully if we reshape them the way we want them they still refer to the same memory locations.  We can test this by reshaping each weight matrix, then assign a new value to `all_weights` and see of `W1` and `W2` have the changed values."
   ]
  },
  {
   "cell_type": "code",
   "execution_count": 16,
   "metadata": {},
   "outputs": [
    {
     "data": {
      "text/plain": [
       "(array([[9999,    1],\n",
       "        [   2,    3],\n",
       "        [   4,    5],\n",
       "        [   6,    7],\n",
       "        [   8,    9]]),\n",
       " array([[  0,  -1,  -2,  -3,  -4,  -5,  -6,  -7,  -8,  -9],\n",
       "        [-10, -11, -12, -13, -14, -15, -16, -17, -18, -19],\n",
       "        [-20, -21, -22, -23, -24, -25, -26, -27, -28, -29]]))"
      ]
     },
     "execution_count": 16,
     "metadata": {},
     "output_type": "execute_result"
    }
   ],
   "source": [
    "W1 = W1.reshape(W1shape)\n",
    "W2 = W2.reshape(W2shape)\n",
    "W1, W2"
   ]
  },
  {
   "cell_type": "code",
   "execution_count": 17,
   "metadata": {},
   "outputs": [
    {
     "data": {
      "text/plain": [
       "array([19998,     2,     4,     6,     8,    10,    12,    14,    16,\n",
       "          18,     0,    -2,    -4,    -6,    -8,   -10,   -12,   -14,\n",
       "         -16,   -18,   -20,   -22,   -24,   -26,   -28,   -30,   -32,\n",
       "         -34,   -36,   -38,   -40,   -42,   -44,   -46,   -48,   -50,\n",
       "         -52,   -54,   -56,   -58])"
      ]
     },
     "execution_count": 17,
     "metadata": {},
     "output_type": "execute_result"
    }
   ],
   "source": [
    "all_weights *= 2\n",
    "all_weights"
   ]
  },
  {
   "cell_type": "code",
   "execution_count": null,
   "metadata": {},
   "outputs": [],
   "source": [
    "W1, W2"
   ]
  },
  {
   "cell_type": "markdown",
   "metadata": {},
   "source": [
    "Yippee! This works!"
   ]
  },
  {
   "cell_type": "markdown",
   "metadata": {},
   "source": [
    "## Assign Changes to Weight Vector Without Creating a Copy"
   ]
  },
  {
   "cell_type": "code",
   "execution_count": null,
   "metadata": {},
   "outputs": [],
   "source": [
    "new_topic('Assign Changes to Weight Vector Without Creating a Copy')"
   ]
  },
  {
   "cell_type": "markdown",
   "metadata": {},
   "source": [
    "But, watch out.  We must make sure the optimization steps are updating `all_weights` in place, and not making a new version of `all_weights`, which would break the correspondence between `all_weights` and `W1` and `W2`.\n",
    "\n",
    "Using `*=` worked.  Here is another way of assigning changes that also works."
   ]
  },
  {
   "cell_type": "code",
   "execution_count": 18,
   "metadata": {},
   "outputs": [],
   "source": [
    "all_weights[:] = all_weights * -4"
   ]
  },
  {
   "cell_type": "code",
   "execution_count": 20,
   "metadata": {},
   "outputs": [
    {
     "data": {
      "text/plain": [
       "array([-79992,     -8,    -16,    -24,    -32,    -40,    -48,    -56,\n",
       "          -64,    -72,      0,      8,     16,     24,     32,     40,\n",
       "           48,     56,     64,     72,     80,     88,     96,    104,\n",
       "          112,    120,    128,    136,    144,    152,    160,    168,\n",
       "          176,    184,    192,    200,    208,    216,    224,    232])"
      ]
     },
     "execution_count": 20,
     "metadata": {},
     "output_type": "execute_result"
    }
   ],
   "source": [
    "all_weights"
   ]
  },
  {
   "cell_type": "code",
   "execution_count": 19,
   "metadata": {},
   "outputs": [
    {
     "data": {
      "text/plain": [
       "(array([[-79992,     -8],\n",
       "        [   -16,    -24],\n",
       "        [   -32,    -40],\n",
       "        [   -48,    -56],\n",
       "        [   -64,    -72]]),\n",
       " array([[  0,   8,  16,  24,  32,  40,  48,  56,  64,  72],\n",
       "        [ 80,  88,  96, 104, 112, 120, 128, 136, 144, 152],\n",
       "        [160, 168, 176, 184, 192, 200, 208, 216, 224, 232]]))"
      ]
     },
     "execution_count": 19,
     "metadata": {},
     "output_type": "execute_result"
    }
   ],
   "source": [
    "W1, W2"
   ]
  },
  {
   "cell_type": "markdown",
   "metadata": {},
   "source": [
    "But here is one form that does make a new copy of `all_weights`."
   ]
  },
  {
   "cell_type": "code",
   "execution_count": 22,
   "metadata": {},
   "outputs": [],
   "source": [
    "all_weights = all_weights + 0.1"
   ]
  },
  {
   "cell_type": "code",
   "execution_count": 23,
   "metadata": {},
   "outputs": [
    {
     "data": {
      "text/plain": [
       "array([-7.99918e+04, -7.80000e+00, -1.58000e+01, -2.38000e+01,\n",
       "       -3.18000e+01, -3.98000e+01, -4.78000e+01, -5.58000e+01,\n",
       "       -6.38000e+01, -7.18000e+01,  2.00000e-01,  8.20000e+00,\n",
       "        1.62000e+01,  2.42000e+01,  3.22000e+01,  4.02000e+01,\n",
       "        4.82000e+01,  5.62000e+01,  6.42000e+01,  7.22000e+01,\n",
       "        8.02000e+01,  8.82000e+01,  9.62000e+01,  1.04200e+02,\n",
       "        1.12200e+02,  1.20200e+02,  1.28200e+02,  1.36200e+02,\n",
       "        1.44200e+02,  1.52200e+02,  1.60200e+02,  1.68200e+02,\n",
       "        1.76200e+02,  1.84200e+02,  1.92200e+02,  2.00200e+02,\n",
       "        2.08200e+02,  2.16200e+02,  2.24200e+02,  2.32200e+02])"
      ]
     },
     "execution_count": 23,
     "metadata": {},
     "output_type": "execute_result"
    }
   ],
   "source": [
    "all_weights"
   ]
  },
  {
   "cell_type": "code",
   "execution_count": null,
   "metadata": {},
   "outputs": [],
   "source": [
    "W1, W2"
   ]
  },
  {
   "cell_type": "markdown",
   "metadata": {},
   "source": [
    "The lesson here is, if you are assigning changes to `all_weights`, or to `W1` and `W2`, always use `[:]` on the left side of the assignment!!"
   ]
  },
  {
   "cell_type": "markdown",
   "metadata": {
    "ExecuteTime": {
     "end_time": "2022-09-20T18:29:51.974245Z",
     "start_time": "2022-09-20T18:29:51.965096Z"
    }
   },
   "source": [
    "## Creating Weights for Any Neural Network"
   ]
  },
  {
   "cell_type": "code",
   "execution_count": null,
   "metadata": {},
   "outputs": [],
   "source": [
    "new_topic('Creating Weights for Any Neural Network')"
   ]
  },
  {
   "cell_type": "markdown",
   "metadata": {},
   "source": [
    "So, how should we create our weights in our `NeuralNetwork` class, to handle any number of layers?  Let's say we are in the constructor for `NeuralNetwork` and have `n_inputs`, `n_hiddens_each_layer` and `n_outputs` available. First, define all of the weight matrices' shapes.\n"
   ]
  },
  {
   "cell_type": "code",
   "execution_count": 24,
   "metadata": {},
   "outputs": [],
   "source": [
    "n_inputs = 2\n",
    "n_hiddens_each_layer = [5, 5, 4]\n",
    "n_outputs = 1"
   ]
  },
  {
   "cell_type": "code",
   "execution_count": 25,
   "metadata": {},
   "outputs": [
    {
     "data": {
      "text/plain": [
       "[(3, 5), (6, 5), (6, 4), (5, 1)]"
      ]
     },
     "execution_count": 25,
     "metadata": {},
     "output_type": "execute_result"
    }
   ],
   "source": [
    "ni = n_inputs\n",
    "Wshapes = []\n",
    "for nh in n_hiddens_each_layer:\n",
    "    Wshapes.append((1 + ni, nh))\n",
    "    ni = nh\n",
    "Wshapes.append((1 + ni, n_outputs))\n",
    "\n",
    "Wshapes    "
   ]
  },
  {
   "cell_type": "markdown",
   "metadata": {},
   "source": [
    "Now we can create the vector of all weights after adding up the number of weights in each layer."
   ]
  },
  {
   "cell_type": "code",
   "execution_count": 26,
   "metadata": {},
   "outputs": [
    {
     "data": {
      "text/plain": [
       "[15, 30, 24, 5]"
      ]
     },
     "execution_count": 26,
     "metadata": {},
     "output_type": "execute_result"
    }
   ],
   "source": [
    "[np.prod(Wshape) for Wshape in Wshapes]"
   ]
  },
  {
   "cell_type": "code",
   "execution_count": 27,
   "metadata": {},
   "outputs": [
    {
     "data": {
      "text/plain": [
       "74"
      ]
     },
     "execution_count": 27,
     "metadata": {},
     "output_type": "execute_result"
    }
   ],
   "source": [
    "n_weights = np.sum([np.prod(Wshape) for Wshape in Wshapes])\n",
    "n_weights"
   ]
  },
  {
   "cell_type": "code",
   "execution_count": 28,
   "metadata": {
    "ExecuteTime": {
     "end_time": "2022-09-20T18:29:51.983302Z",
     "start_time": "2022-09-20T18:29:51.975357Z"
    }
   },
   "outputs": [
    {
     "data": {
      "text/plain": [
       "array([-0.65087874, -0.79507308,  0.45242363, -0.12001258, -0.12695171,\n",
       "       -0.88881351,  0.95602824,  0.90609769, -0.22648106, -0.05848763,\n",
       "        0.88202565, -0.25044262, -0.39985151,  0.97396287, -0.52498817,\n",
       "       -0.29327888,  0.20102603,  0.27018959, -0.28339695, -0.26588622,\n",
       "       -0.9099878 , -0.86398287,  0.48332026,  0.12466235, -0.57145465,\n",
       "        0.35344478,  0.01286574,  0.95561807, -0.60697185, -0.75745204,\n",
       "       -0.36580154,  0.25832087, -0.78852112,  0.84095877, -0.18104839,\n",
       "       -0.73727915,  0.6467106 , -0.83570924, -0.37132305, -0.5759031 ,\n",
       "       -0.88331472,  0.72855873, -0.01505841,  0.77150906,  0.05207972,\n",
       "       -0.54023862, -0.61616603, -0.99772161, -0.84624556,  0.80151901,\n",
       "       -0.11507971, -0.94227705, -0.21688885, -0.95792591, -0.95400767,\n",
       "        0.08563548,  0.46232305,  0.75560665, -0.38138449,  0.59447186,\n",
       "       -0.96878661, -0.64114824, -0.18845752,  0.66176745, -0.66572959,\n",
       "       -0.12297388, -0.52605101,  0.24270048, -0.95363181,  0.88630566,\n",
       "        0.17048637,  0.28141572,  0.71946522, -0.07968159])"
      ]
     },
     "execution_count": 28,
     "metadata": {},
     "output_type": "execute_result"
    }
   ],
   "source": [
    "all_weights = np.random.uniform(-1, 1, n_weights)\n",
    "all_weights"
   ]
  },
  {
   "cell_type": "markdown",
   "metadata": {},
   "source": [
    "Now we need to define our list of weight matrices for each layer as views into this vector."
   ]
  },
  {
   "cell_type": "code",
   "execution_count": 29,
   "metadata": {
    "ExecuteTime": {
     "end_time": "2022-09-20T18:29:51.992396Z",
     "start_time": "2022-09-20T18:29:51.986411Z"
    }
   },
   "outputs": [
    {
     "data": {
      "text/plain": [
       "[array([[-0.37578502, -0.45903566,  0.2612069 , -0.0692893 , -0.0732956 ],\n",
       "        [-0.51315672,  0.55196316,  0.52313575, -0.1307589 , -0.03376785],\n",
       "        [ 0.50923775, -0.14459311, -0.23085438,  0.56231773, -0.30310206]]),\n",
       " array([[-0.1197306 ,  0.08206853,  0.11030444, -0.11569632, -0.10854759],\n",
       "        [-0.37150096, -0.35271953,  0.19731467,  0.05089319, -0.23329538],\n",
       "        [ 0.14429323,  0.00525242,  0.39012944, -0.24779522, -0.3092285 ],\n",
       "        [-0.14933785,  0.10545905, -0.3219124 ,  0.34331998, -0.0739127 ],\n",
       "        [-0.30099295,  0.2640185 , -0.34117687, -0.151592  , -0.23511145],\n",
       "        [-0.36061172,  0.29743285, -0.00614757,  0.31496726,  0.02126146]]),\n",
       " array([[-0.22055149, -0.25154873, -0.40731814, -0.3454783 ],\n",
       "        [ 0.32721877, -0.04698109, -0.38468299, -0.0885445 ],\n",
       "        [-0.39107162, -0.389472  ,  0.03496054,  0.1887426 ],\n",
       "        [ 0.30847512, -0.15569957,  0.24269212, -0.39550548],\n",
       "        [-0.26174767, -0.07693746,  0.27016543, -0.27178297],\n",
       "        [-0.05020388, -0.21475943,  0.09908206, -0.38931855]]),\n",
       " array([[ 0.39636794],\n",
       "        [ 0.07624382],\n",
       "        [ 0.12585293],\n",
       "        [ 0.32175463],\n",
       "        [-0.03563469]])]"
      ]
     },
     "execution_count": 29,
     "metadata": {},
     "output_type": "execute_result"
    }
   ],
   "source": [
    "Ws = []\n",
    "first_index = 0\n",
    "for Wshape in Wshapes:\n",
    "    last_index = first_index + np.prod(Wshape)\n",
    "    nin = Wshape[0]\n",
    "    W = all_weights[first_index:last_index].reshape(Wshape) / np.sqrt(nin)\n",
    "    Ws.append(W)\n",
    "    first_index = last_index\n",
    "\n",
    "Ws"
   ]
  },
  {
   "cell_type": "code",
   "execution_count": 30,
   "metadata": {},
   "outputs": [
    {
     "data": {
      "text/plain": [
       "array([-0.65087874, -0.79507308,  0.45242363, -0.12001258, -0.12695171,\n",
       "       -0.88881351,  0.95602824,  0.90609769, -0.22648106, -0.05848763,\n",
       "        0.88202565, -0.25044262, -0.39985151,  0.97396287, -0.52498817,\n",
       "       -0.29327888,  0.20102603,  0.27018959, -0.28339695, -0.26588622,\n",
       "       -0.9099878 , -0.86398287,  0.48332026,  0.12466235, -0.57145465,\n",
       "        0.35344478,  0.01286574,  0.95561807, -0.60697185, -0.75745204,\n",
       "       -0.36580154,  0.25832087, -0.78852112,  0.84095877, -0.18104839,\n",
       "       -0.73727915,  0.6467106 , -0.83570924, -0.37132305, -0.5759031 ,\n",
       "       -0.88331472,  0.72855873, -0.01505841,  0.77150906,  0.05207972,\n",
       "       -0.54023862, -0.61616603, -0.99772161, -0.84624556,  0.80151901,\n",
       "       -0.11507971, -0.94227705, -0.21688885, -0.95792591, -0.95400767,\n",
       "        0.08563548,  0.46232305,  0.75560665, -0.38138449,  0.59447186,\n",
       "       -0.96878661, -0.64114824, -0.18845752,  0.66176745, -0.66572959,\n",
       "       -0.12297388, -0.52605101,  0.24270048, -0.95363181,  0.88630566,\n",
       "        0.17048637,  0.28141572,  0.71946522, -0.07968159])"
      ]
     },
     "execution_count": 30,
     "metadata": {},
     "output_type": "execute_result"
    }
   ],
   "source": [
    "all_weights"
   ]
  },
  {
   "cell_type": "markdown",
   "metadata": {},
   "source": [
    "Uh oh.  Not the same values!!!  What happened?"
   ]
  },
  {
   "cell_type": "markdown",
   "metadata": {},
   "source": [
    "Right.  Somewhere we performed an operation that caused a copy to be made.\n",
    "\n",
    "Must be the division.  Let's rewrite that code using `/='."
   ]
  },
  {
   "cell_type": "code",
   "execution_count": 47,
   "metadata": {},
   "outputs": [
    {
     "data": {
      "text/plain": [
       "[array([[-0.40969216,  0.04133855, -0.56128029,  0.45462498,  0.56030044],\n",
       "        [ 0.46000466,  0.37721153, -0.10279191, -0.44368135,  0.21354961],\n",
       "        [ 0.53388287,  0.35757322,  0.06017105, -0.44949076, -0.14913744]]),\n",
       " array([[ 0.36442311,  0.20195073,  0.09952844,  0.24651935,  0.08488891],\n",
       "        [-0.03340747, -0.10892462,  0.08592047, -0.25973948, -0.13652333],\n",
       "        [ 0.29521669, -0.30356495,  0.25090528,  0.03745543,  0.27744282],\n",
       "        [-0.05828996, -0.22619273, -0.22286967, -0.38864965, -0.33984051],\n",
       "        [ 0.24527944, -0.23858636, -0.20241847,  0.26209233,  0.16592285],\n",
       "        [-0.0692501 , -0.24102665, -0.3293993 , -0.36205287,  0.1472432 ]]),\n",
       " array([[-0.35581485,  0.23450013, -0.29436977, -0.25344666],\n",
       "        [ 0.31894569, -0.40030664,  0.21805523, -0.35270905],\n",
       "        [ 0.39866461, -0.13211033, -0.13464466, -0.04075297],\n",
       "        [ 0.0939239 , -0.1034243 , -0.16778267,  0.1276572 ],\n",
       "        [-0.3174877 , -0.11936896, -0.08304427, -0.20484837],\n",
       "        [-0.39216118, -0.18717822, -0.33681754, -0.15565863]]),\n",
       " array([[0.02577942],\n",
       "        [0.40658813],\n",
       "        [0.27439678],\n",
       "        [0.18265082],\n",
       "        [0.36368229]])]"
      ]
     },
     "execution_count": 47,
     "metadata": {},
     "output_type": "execute_result"
    }
   ],
   "source": [
    "all_weights = np.random.uniform(-1, 1, n_weights)\n",
    "\n",
    "Ws = []\n",
    "first_index = 0\n",
    "for Wshape in Wshapes:\n",
    "    last_index = first_index + np.prod(Wshape)\n",
    "    nin = Wshape[0]\n",
    "    W = all_weights[first_index:last_index].reshape(Wshape)\n",
    "    W /= np.sqrt(nin)\n",
    "    Ws.append(W)\n",
    "    first_index = last_index\n",
    "\n",
    "Ws"
   ]
  },
  {
   "cell_type": "code",
   "execution_count": 48,
   "metadata": {},
   "outputs": [
    {
     "data": {
      "text/plain": [
       "array([-0.40969216,  0.04133855, -0.56128029,  0.45462498,  0.56030044,\n",
       "        0.46000466,  0.37721153, -0.10279191, -0.44368135,  0.21354961,\n",
       "        0.53388287,  0.35757322,  0.06017105, -0.44949076, -0.14913744,\n",
       "        0.36442311,  0.20195073,  0.09952844,  0.24651935,  0.08488891,\n",
       "       -0.03340747, -0.10892462,  0.08592047, -0.25973948, -0.13652333,\n",
       "        0.29521669, -0.30356495,  0.25090528,  0.03745543,  0.27744282,\n",
       "       -0.05828996, -0.22619273, -0.22286967, -0.38864965, -0.33984051,\n",
       "        0.24527944, -0.23858636, -0.20241847,  0.26209233,  0.16592285,\n",
       "       -0.0692501 , -0.24102665, -0.3293993 , -0.36205287,  0.1472432 ,\n",
       "       -0.35581485,  0.23450013, -0.29436977, -0.25344666,  0.31894569,\n",
       "       -0.40030664,  0.21805523, -0.35270905,  0.39866461, -0.13211033,\n",
       "       -0.13464466, -0.04075297,  0.0939239 , -0.1034243 , -0.16778267,\n",
       "        0.1276572 , -0.3174877 , -0.11936896, -0.08304427, -0.20484837,\n",
       "       -0.39216118, -0.18717822, -0.33681754, -0.15565863,  0.02577942,\n",
       "        0.40658813,  0.27439678,  0.18265082,  0.36368229])"
      ]
     },
     "execution_count": 48,
     "metadata": {},
     "output_type": "execute_result"
    }
   ],
   "source": [
    "all_weights"
   ]
  },
  {
   "cell_type": "code",
   "execution_count": 49,
   "metadata": {},
   "outputs": [
    {
     "data": {
      "text/plain": [
       "array([-409.69215648,   41.33855436, -561.28029172,  454.62498048,\n",
       "        560.30043656,  460.00465695,  377.21152706, -102.79190882,\n",
       "       -443.68134716,  213.54961215,  533.8828659 ,  357.57322322,\n",
       "         60.17105201, -449.49075751, -149.13743997,  364.42311011,\n",
       "        201.95073497,   99.52844231,  246.51934829,   84.88891371,\n",
       "        -33.40747358, -108.92461655,   85.92047304, -259.73947833,\n",
       "       -136.52333234,  295.21668576, -303.5649511 ,  250.90527968,\n",
       "         37.4554331 ,  277.44281766,  -58.28996436, -226.19272531,\n",
       "       -222.86967345, -388.6496502 , -339.8405063 ,  245.27943533,\n",
       "       -238.58636447, -202.41846879,  262.09232613,  165.92285224,\n",
       "        -69.25009901, -241.02665242, -329.39930408, -362.05287199,\n",
       "        147.24319503, -355.81485225,  234.50013269, -294.36977466,\n",
       "       -253.44666309,  318.94568958, -400.3066394 ,  218.0552266 ,\n",
       "       -352.70904963,  398.66460516, -132.1103318 , -134.64465567,\n",
       "        -40.75296678,   93.92389691, -103.42430448, -167.78266993,\n",
       "        127.65719636, -317.48769632, -119.36895588,  -83.04426775,\n",
       "       -204.84837081, -392.16118307, -187.17822224, -336.81753638,\n",
       "       -155.65863048,   25.77942148,  406.5881308 ,  274.39678331,\n",
       "        182.65082102,  363.6822922 ])"
      ]
     },
     "execution_count": 49,
     "metadata": {},
     "output_type": "execute_result"
    }
   ],
   "source": [
    "all_weights[:] = all_weights * 1000\n",
    "all_weights"
   ]
  },
  {
   "cell_type": "code",
   "execution_count": 50,
   "metadata": {
    "tags": []
   },
   "outputs": [
    {
     "data": {
      "text/plain": [
       "[array([[-409.69215648,   41.33855436, -561.28029172,  454.62498048,\n",
       "          560.30043656],\n",
       "        [ 460.00465695,  377.21152706, -102.79190882, -443.68134716,\n",
       "          213.54961215],\n",
       "        [ 533.8828659 ,  357.57322322,   60.17105201, -449.49075751,\n",
       "         -149.13743997]]),\n",
       " array([[ 364.42311011,  201.95073497,   99.52844231,  246.51934829,\n",
       "           84.88891371],\n",
       "        [ -33.40747358, -108.92461655,   85.92047304, -259.73947833,\n",
       "         -136.52333234],\n",
       "        [ 295.21668576, -303.5649511 ,  250.90527968,   37.4554331 ,\n",
       "          277.44281766],\n",
       "        [ -58.28996436, -226.19272531, -222.86967345, -388.6496502 ,\n",
       "         -339.8405063 ],\n",
       "        [ 245.27943533, -238.58636447, -202.41846879,  262.09232613,\n",
       "          165.92285224],\n",
       "        [ -69.25009901, -241.02665242, -329.39930408, -362.05287199,\n",
       "          147.24319503]]),\n",
       " array([[-355.81485225,  234.50013269, -294.36977466, -253.44666309],\n",
       "        [ 318.94568958, -400.3066394 ,  218.0552266 , -352.70904963],\n",
       "        [ 398.66460516, -132.1103318 , -134.64465567,  -40.75296678],\n",
       "        [  93.92389691, -103.42430448, -167.78266993,  127.65719636],\n",
       "        [-317.48769632, -119.36895588,  -83.04426775, -204.84837081],\n",
       "        [-392.16118307, -187.17822224, -336.81753638, -155.65863048]]),\n",
       " array([[ 25.77942148],\n",
       "        [406.5881308 ],\n",
       "        [274.39678331],\n",
       "        [182.65082102],\n",
       "        [363.6822922 ]])]"
      ]
     },
     "execution_count": 50,
     "metadata": {},
     "output_type": "execute_result"
    }
   ],
   "source": [
    "Ws"
   ]
  },
  {
   "cell_type": "code",
   "execution_count": 51,
   "metadata": {},
   "outputs": [
    {
     "data": {
      "text/plain": [
       "[array([[-409.69215648,   41.33855436, -561.28029172,  454.62498048,\n",
       "          560.30043656],\n",
       "        [ 460.00465695,  377.21152706, -102.79190882, -443.68134716,\n",
       "          213.54961215],\n",
       "        [ 533.8828659 ,  357.57322322,   60.17105201, -449.49075751,\n",
       "         -149.13743997]]),\n",
       " array([[ 364.42311011,  201.95073497,   99.52844231,  246.51934829,\n",
       "           84.88891371],\n",
       "        [ -33.40747358, -108.92461655,   85.92047304, -259.73947833,\n",
       "         -136.52333234],\n",
       "        [ 295.21668576, -303.5649511 ,  250.90527968,   37.4554331 ,\n",
       "          277.44281766],\n",
       "        [ -58.28996436, -226.19272531, -222.86967345, -388.6496502 ,\n",
       "         -339.8405063 ],\n",
       "        [ 245.27943533, -238.58636447, -202.41846879,  262.09232613,\n",
       "          165.92285224],\n",
       "        [ -69.25009901, -241.02665242, -329.39930408, -362.05287199,\n",
       "          147.24319503]]),\n",
       " array([[-355.81485225,  234.50013269, -294.36977466, -253.44666309],\n",
       "        [ 318.94568958, -400.3066394 ,  218.0552266 , -352.70904963],\n",
       "        [ 398.66460516, -132.1103318 , -134.64465567,  -40.75296678],\n",
       "        [  93.92389691, -103.42430448, -167.78266993,  127.65719636],\n",
       "        [-317.48769632, -119.36895588,  -83.04426775, -204.84837081],\n",
       "        [-392.16118307, -187.17822224, -336.81753638, -155.65863048]]),\n",
       " array([[0.],\n",
       "        [0.],\n",
       "        [0.],\n",
       "        [0.],\n",
       "        [0.]])]"
      ]
     },
     "execution_count": 51,
     "metadata": {},
     "output_type": "execute_result"
    }
   ],
   "source": [
    "Ws[-1][:] = np.zeros_like(Ws[-1])\n",
    "Ws"
   ]
  },
  {
   "cell_type": "code",
   "execution_count": 52,
   "metadata": {},
   "outputs": [
    {
     "data": {
      "text/plain": [
       "array([-409.69215648,   41.33855436, -561.28029172,  454.62498048,\n",
       "        560.30043656,  460.00465695,  377.21152706, -102.79190882,\n",
       "       -443.68134716,  213.54961215,  533.8828659 ,  357.57322322,\n",
       "         60.17105201, -449.49075751, -149.13743997,  364.42311011,\n",
       "        201.95073497,   99.52844231,  246.51934829,   84.88891371,\n",
       "        -33.40747358, -108.92461655,   85.92047304, -259.73947833,\n",
       "       -136.52333234,  295.21668576, -303.5649511 ,  250.90527968,\n",
       "         37.4554331 ,  277.44281766,  -58.28996436, -226.19272531,\n",
       "       -222.86967345, -388.6496502 , -339.8405063 ,  245.27943533,\n",
       "       -238.58636447, -202.41846879,  262.09232613,  165.92285224,\n",
       "        -69.25009901, -241.02665242, -329.39930408, -362.05287199,\n",
       "        147.24319503, -355.81485225,  234.50013269, -294.36977466,\n",
       "       -253.44666309,  318.94568958, -400.3066394 ,  218.0552266 ,\n",
       "       -352.70904963,  398.66460516, -132.1103318 , -134.64465567,\n",
       "        -40.75296678,   93.92389691, -103.42430448, -167.78266993,\n",
       "        127.65719636, -317.48769632, -119.36895588,  -83.04426775,\n",
       "       -204.84837081, -392.16118307, -187.17822224, -336.81753638,\n",
       "       -155.65863048,    0.        ,    0.        ,    0.        ,\n",
       "          0.        ,    0.        ])"
      ]
     },
     "execution_count": 52,
     "metadata": {},
     "output_type": "execute_result"
    }
   ],
   "source": [
    "all_weights"
   ]
  },
  {
   "cell_type": "code",
   "execution_count": null,
   "metadata": {},
   "outputs": [],
   "source": [
    "if all_weights:\n",
    "    all_gradients = np.zeros_like(all_weights)\n",
    "    grad_V = all_gradients[:n_V].reshape(Vshape)\n",
    "    grad_W = all_gradients[n_V:].reshape(Wshape) "
   ]
  },
  {
   "cell_type": "code",
   "execution_count": null,
   "metadata": {},
   "outputs": [],
   "source": [
    "if not all_weights:\n",
    "    all_weights = np.random.uniform(-1, 1, n_weights)\n",
    "\n",
    "Ws = []\n",
    "first_index = 0\n",
    "for Wshape in Wshapes:\n",
    "    last_index = first_index + np.prod(Wshape)\n",
    "    nin = Wshape[0]\n",
    "    W = all_weights[first_index:last_index].reshape(Wshape)\n",
    "    W /= np.sqrt(nin)\n",
    "    Ws.append(W)\n",
    "    first_index = last_index"
   ]
  },
  {
   "cell_type": "code",
   "execution_count": 55,
   "metadata": {},
   "outputs": [
    {
     "ename": "NameError",
     "evalue": "name 'all_test' is not defined",
     "output_type": "error",
     "traceback": [
      "\u001b[1;31m---------------------------------------------------------------------------\u001b[0m",
      "\u001b[1;31mNameError\u001b[0m                                 Traceback (most recent call last)",
      "\u001b[1;32m<ipython-input-55-d2b11ce9e176>\u001b[0m in \u001b[0;36m<module>\u001b[1;34m\u001b[0m\n\u001b[1;32m----> 1\u001b[1;33m \u001b[1;32mif\u001b[0m \u001b[1;32mnot\u001b[0m \u001b[0mall_test\u001b[0m\u001b[1;33m:\u001b[0m\u001b[1;33m\u001b[0m\u001b[1;33m\u001b[0m\u001b[0m\n\u001b[0m\u001b[0;32m      2\u001b[0m     \u001b[0mprint\u001b[0m\u001b[1;33m(\u001b[0m\u001b[1;34m\"test doesn't exist\"\u001b[0m\u001b[1;33m)\u001b[0m\u001b[1;33m\u001b[0m\u001b[1;33m\u001b[0m\u001b[0m\n\u001b[0;32m      3\u001b[0m \u001b[1;32melse\u001b[0m\u001b[1;33m:\u001b[0m\u001b[1;33m\u001b[0m\u001b[1;33m\u001b[0m\u001b[0m\n\u001b[0;32m      4\u001b[0m     \u001b[0mprint\u001b[0m\u001b[1;33m(\u001b[0m\u001b[1;34m\"test exists\"\u001b[0m\u001b[1;33m)\u001b[0m\u001b[1;33m\u001b[0m\u001b[1;33m\u001b[0m\u001b[0m\n",
      "\u001b[1;31mNameError\u001b[0m: name 'all_test' is not defined"
     ]
    }
   ],
   "source": [
    "if not all_test:\n",
    "    print(\"test doesn't exist\")\n",
    "else:\n",
    "    print(\"test exists\")"
   ]
  }
 ],
 "metadata": {
  "kernelspec": {
   "display_name": "Python 3",
   "language": "python",
   "name": "python3"
  },
  "language_info": {
   "codemirror_mode": {
    "name": "ipython",
    "version": 3
   },
   "file_extension": ".py",
   "mimetype": "text/x-python",
   "name": "python",
   "nbconvert_exporter": "python",
   "pygments_lexer": "ipython3",
   "version": "3.8.3"
  },
  "toc": {
   "base_numbering": 1,
   "nav_menu": {},
   "number_sections": true,
   "sideBar": true,
   "skip_h1_title": false,
   "title_cell": "Table of Contents",
   "title_sidebar": "Contents",
   "toc_cell": false,
   "toc_position": {},
   "toc_section_display": true,
   "toc_window_display": false
  }
 },
 "nbformat": 4,
 "nbformat_minor": 5
}
